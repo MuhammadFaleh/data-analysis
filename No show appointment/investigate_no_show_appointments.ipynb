{
 "cells": [
  {
   "cell_type": "markdown",
   "metadata": {},
   "source": [
    "\n",
    "#  The No-show appointments dataset Investigation\n",
    "### by Muhammad faleh almutiri \n",
    "\n",
    "## Table of Contents\n",
    "<ul>\n",
    "<li><a href=\"#intro\">Introduction</a></li>\n",
    "<li><a href=\"#wrangling\">Data Wrangling</a></li>\n",
    "<li><a href=\"#eda\">Exploratory Data Analysis</a></li>\n",
    "<li><a href=\"#correlation Analysis\">correlation Analysis</a></li>\n",
    "<li><a href=\"#Data pre-processing\">Data pre-processing</a></li>\n",
    "<li><a href=\"#Model Training & Testing\">Model Training & Testing</a></li>\n",
    "<li><a href=\"#Conclusion\">Conclusion</a></li>\n",
    "</ul>"
   ]
  },
  {
   "cell_type": "markdown",
   "metadata": {},
   "source": [
    "<a id='intro'></a>\n",
    "## Introduction\n",
    "> i will look in this investigation at No-show appointments dataset, i will look at Exploratory Data Analysis, correlation Analysis, data balancing and applying machine learning models on the data, the models to be tested are:\n",
    "1. bagging + random forrest\n",
    "2. bagging + MLP\n",
    "3. bagging + KNN\n",
    "### Dataset Description  \n",
    "\n",
    ">The dataset analyzed was the **No-show appointments dataset** which includes information about 100k medical appointments that were made in 2016 in brazil which asks the question of whether or not patients show up for their appointment,\n",
    "‘ScheduledDay’ (which day the patient set up their appointment\n",
    "\n",
    "   1. 'PatientId' (a unqiue number used to refer to the Patient)\n",
    "   2. 'AppointmentID' (a unqiue number used to refer to the Appointment day)\n",
    "   3. 'ScheduledDay' (which day the patient set up their appointment)\n",
    "   4. 'AppointmentDay' (the date on which the appointment was made)\n",
    "   5. 'Gender' (the gender of the patient)\n",
    "   6. 'Age' (Patient Age)\n",
    "   7. 'Neighbourhood' (the hospital Neighbourhood)\n",
    "   8. 'Scholarship' (indicates whether or not the patient is enrolled in Brasilian welfare program Bolsa Família)\n",
    "   9. Hipertension,Diabetes,Alcoholism,Handcap (all indiacte the diseases)\n",
    "   10. 'SMS_received' (wheather or not the patient received an sms about the appointment)\n",
    "   11. 'No_show' (wheather or not the patient attended the appointment No means they did)\n",
    "\n",
    "\n",
    "\n",
    "### Question(s) for the Exploratory & Correlation Analysis\n",
    "<li><a href=\"#Q2\">What gender is least to attend / more ?</a></li>\n",
    "    <li><a href=\"#Q3\">What’s the age disruption ? </a></li>\n",
    "    <li><a href=\"#Q4\">What disease is more to attend / less</a></li>\n",
    "    <li><a href=\"#Q5\">Which week day have the most attendedes/appointments made</a></li>\n",
    "    <li><a href=\"#Q7\">What is the date of the  min max attendants/appointments in a day</a></li>\n",
    "    <li><a href=\"#Q1\">Is there a relation between receiving an sms and attending ? </a></li>\n",
    "    <li><a href=\"#Q8\">Is there a relation between having a scholarship and attending ?</a></li>\n",
    "    <li><a href=\"#Q9\">Is there a relation between Gender and attending </a></li>\n",
    "    <li><a href=\"#10\">Is there a relation between disease attending</a></li>\n",
    "</ul>"
   ]
  },
  {
   "cell_type": "code",
   "execution_count": 1,
   "metadata": {},
   "outputs": [],
   "source": [
    "import pandas as pd\n",
    "import matplotlib.pyplot as plt\n",
    "import numpy as np\n",
    "from sklearn.metrics import confusion_matrix\n",
    "import dateutil.parser\n",
    "from scipy.stats import chi2_contingency\n",
    "from imblearn.ensemble import BalancedBaggingClassifier\n",
    "import seaborn as sb\n",
    "from sklearn.model_selection import train_test_split, GridSearchCV, StratifiedKFold\n",
    "import collections\n",
    "from imblearn.over_sampling import SMOTE\n",
    "from sklearn.ensemble import RandomForestClassifier\n",
    "from imblearn.metrics import classification_report_imbalanced\n",
    "from sklearn.neural_network import MLPClassifier\n",
    "from sklearn.metrics import precision_score, recall_score, f1_score, roc_auc_score, accuracy_score, classification_report\n",
    "from sklearn.preprocessing import StandardScaler\n",
    "from sklearn.decomposition import PCA, TruncatedSVD\n",
    "from imblearn.ensemble import BalancedRandomForestClassifier\n",
    "from sklearn.ensemble import AdaBoostClassifier\n",
    "from sklearn.neighbors import KNeighborsClassifier"
   ]
  },
  {
   "cell_type": "code",
   "execution_count": 2,
   "metadata": {},
   "outputs": [],
   "source": [
    "def model_val(labels_test,pred):\n",
    "  cnf_matrix=confusion_matrix(labels_test,pred)\n",
    "  print(\"the recall for this model is :\",cnf_matrix[1,1]/(cnf_matrix[1,1]+cnf_matrix[1,0]))\n",
    "  fig= plt.figure(figsize=(6,3))# to plot the graph\n",
    "  print(\"TP\",cnf_matrix[1,1,]) # no of fraud transaction which are predicted fraud\n",
    "  print(\"TN\",cnf_matrix[0,0]) # no. of normal transaction which are predited normal\n",
    "  print(\"FP\",cnf_matrix[0,1]) # no of normal transaction which are predicted fraud\n",
    "  print(\"FN\",cnf_matrix[1,0]) # no of fraud Transaction which are predicted normal\n",
    "  sb.heatmap(cnf_matrix,cmap=\"coolwarm_r\",annot=True,linewidths=0.5)\n",
    "  plt.title(\"Confusion_matrix\")\n",
    "  plt.xlabel(\"Predicted_class\")\n",
    "  plt.ylabel(\"Real class\")\n",
    "  plt.show()\n",
    "  print(\"\\n----------Classification Report------------------------------------\")\n",
    "  print(classification_report(labels_test,pred, digits=5))\n",
    "  print(classification_report_imbalanced(labels_test, pred, digits=5))"
   ]
  },
  {
   "cell_type": "markdown",
   "metadata": {},
   "source": [
    "> print the classification report "
   ]
  },
  {
   "cell_type": "code",
   "execution_count": 3,
   "metadata": {},
   "outputs": [],
   "source": [
    "def percentage(str1,str2, val1, val1_total, val2, val2_total):\n",
    "    a = round((val1 / val1_total ) * 100, 3)\n",
    "    b = round((val2 / val2_total ) * 100, 3)\n",
    "    print(str1,\" : \", a,'%\\n',str2,\" : \",b,'%')"
   ]
  },
  {
   "cell_type": "markdown",
   "metadata": {},
   "source": [
    "Calculate percentages"
   ]
  },
  {
   "cell_type": "code",
   "execution_count": 4,
   "metadata": {},
   "outputs": [],
   "source": [
    "def get_dis(df_, str):\n",
    "    scholar_df = df_['No_show'].loc[(df_['Scholarship'] == 1) & (df_['No_show'] == str)]\n",
    "    hiper_df = df_['No_show'].loc[(df_['Hipertension'] == 1 )& (df_['No_show'] == str)]\n",
    "    dia_df = df_['No_show'].loc[(df_['Diabetes'] == 1)& (df_['No_show'] == str)]\n",
    "    alco_df = df_['No_show'].loc[(df_['Alcoholism'] == 1)& (df_['No_show'] == str)]\n",
    "    hand_df = df_['No_show'].loc[(df_['Handcap'] == 1)& (df_['No_show'] == str)]\n",
    "    no_dis_df = df_['No_show'].loc[(df_['Hipertension'] == 0) & (df_['Handcap'] == 0) & (df_['Alcoholism'] == 0)\n",
    "                           & (df_['Diabetes'] == 0) & (df_['No_show'] == str)]\n",
    "    \n",
    "    return np.array([len(no_dis_df),len(hiper_df), len(scholar_df), len(dia_df), len(alco_df),len(hand_df)])"
   ]
  },
  {
   "cell_type": "markdown",
   "metadata": {},
   "source": [
    "Get a numpy array of the diseases/ scholarship"
   ]
  },
  {
   "cell_type": "code",
   "execution_count": 5,
   "metadata": {},
   "outputs": [],
   "source": [
    "def sum_dates(df_, name, str1):\n",
    "    df1 = df_.groupby(name).size().reset_index(name='count')\n",
    "    df2 = df_.copy()\n",
    "    a, b = df1[name].loc[df1['count'].idxmax()], \\\n",
    "           df1[name].loc[df1['count'].idxmin()]\n",
    "    df2[name] = df_[name].dt.strftime('%a')\n",
    "    df2 = df2.groupby(name).size().reset_index(name='count')\n",
    "    if str1:\n",
    "        print(f'{str1} maximum :\\n{a}\\n\\n{str1} minimum :\\n{b}\\n')\n",
    "    else:\n",
    "        pass\n",
    "    return df2"
   ]
  },
  {
   "cell_type": "markdown",
   "metadata": {},
   "source": [
    "Calculate the min and max of sent dates and return a dataframe where dates are replaced by weekdays and added"
   ]
  },
  {
   "cell_type": "code",
   "execution_count": 6,
   "metadata": {},
   "outputs": [],
   "source": [
    "def count_plot(df, xdata, dodge, width,title):\n",
    "\n",
    "\n",
    "    plots = sb.countplot(data=df,x= xdata, dodge=dodge,width=width )\n",
    "    for p in plots.patches:\n",
    "        plots.annotate('{:.1f}'.format(p.get_height()), (p.get_x()+.04, p.get_height()+511))\n",
    "\n",
    "    plt.title(title)\n",
    "\n",
    "\n",
    "    plt.show()"
   ]
  },
  {
   "cell_type": "markdown",
   "metadata": {},
   "source": [
    "<a id='wrangling'></a>\n",
    "## Data Wrangling\n",
    "\n"
   ]
  },
  {
   "cell_type": "code",
   "execution_count": 7,
   "metadata": {},
   "outputs": [
    {
     "name": "stdout",
     "output_type": "stream",
     "text": [
      "<class 'pandas.core.frame.DataFrame'>\n",
      "RangeIndex: 110527 entries, 0 to 110526\n",
      "Data columns (total 14 columns):\n",
      " #   Column          Non-Null Count   Dtype  \n",
      "---  ------          --------------   -----  \n",
      " 0   PatientId       110527 non-null  float64\n",
      " 1   AppointmentID   110527 non-null  int64  \n",
      " 2   Gender          110527 non-null  object \n",
      " 3   ScheduledDay    110527 non-null  object \n",
      " 4   AppointmentDay  110527 non-null  object \n",
      " 5   Age             110527 non-null  int64  \n",
      " 6   Neighbourhood   110527 non-null  object \n",
      " 7   Scholarship     110527 non-null  int64  \n",
      " 8   Hipertension    110527 non-null  int64  \n",
      " 9   Diabetes        110527 non-null  int64  \n",
      " 10  Alcoholism      110527 non-null  int64  \n",
      " 11  Handcap         110527 non-null  int64  \n",
      " 12  SMS_received    110527 non-null  int64  \n",
      " 13  No_show         110527 non-null  object \n",
      "dtypes: float64(1), int64(8), object(5)\n",
      "memory usage: 11.8+ MB\n"
     ]
    }
   ],
   "source": [
    "df = pd.read_csv('noshowappointments.csv')\n",
    "\n",
    "df.info()"
   ]
  },
  {
   "cell_type": "markdown",
   "metadata": {},
   "source": [
    "> the data has a total of 14 column, we can see that there's a total of 110527 rows.\n",
    "> also we can see that AppointmentDay, ScheduledDay are set as an object , they should be a datetime or timestamp "
   ]
  },
  {
   "cell_type": "code",
   "execution_count": 8,
   "metadata": {},
   "outputs": [
    {
     "data": {
      "text/html": [
       "<div>\n",
       "<style scoped>\n",
       "    .dataframe tbody tr th:only-of-type {\n",
       "        vertical-align: middle;\n",
       "    }\n",
       "\n",
       "    .dataframe tbody tr th {\n",
       "        vertical-align: top;\n",
       "    }\n",
       "\n",
       "    .dataframe thead th {\n",
       "        text-align: right;\n",
       "    }\n",
       "</style>\n",
       "<table border=\"1\" class=\"dataframe\">\n",
       "  <thead>\n",
       "    <tr style=\"text-align: right;\">\n",
       "      <th></th>\n",
       "      <th>PatientId</th>\n",
       "      <th>Gender</th>\n",
       "      <th>ScheduledDay</th>\n",
       "      <th>AppointmentDay</th>\n",
       "      <th>Age</th>\n",
       "      <th>Neighbourhood</th>\n",
       "      <th>Scholarship</th>\n",
       "      <th>Hipertension</th>\n",
       "      <th>Diabetes</th>\n",
       "      <th>Alcoholism</th>\n",
       "      <th>Handcap</th>\n",
       "      <th>SMS_received</th>\n",
       "      <th>No_show</th>\n",
       "    </tr>\n",
       "  </thead>\n",
       "  <tbody>\n",
       "    <tr>\n",
       "      <th>0</th>\n",
       "      <td>2.987250e+13</td>\n",
       "      <td>F</td>\n",
       "      <td>2016-04-29T18:38:08Z</td>\n",
       "      <td>2016-04-29T00:00:00Z</td>\n",
       "      <td>62</td>\n",
       "      <td>JARDIM DA PENHA</td>\n",
       "      <td>0</td>\n",
       "      <td>1</td>\n",
       "      <td>0</td>\n",
       "      <td>0</td>\n",
       "      <td>0</td>\n",
       "      <td>0</td>\n",
       "      <td>No</td>\n",
       "    </tr>\n",
       "    <tr>\n",
       "      <th>1</th>\n",
       "      <td>5.589978e+14</td>\n",
       "      <td>M</td>\n",
       "      <td>2016-04-29T16:08:27Z</td>\n",
       "      <td>2016-04-29T00:00:00Z</td>\n",
       "      <td>56</td>\n",
       "      <td>JARDIM DA PENHA</td>\n",
       "      <td>0</td>\n",
       "      <td>0</td>\n",
       "      <td>0</td>\n",
       "      <td>0</td>\n",
       "      <td>0</td>\n",
       "      <td>0</td>\n",
       "      <td>No</td>\n",
       "    </tr>\n",
       "    <tr>\n",
       "      <th>2</th>\n",
       "      <td>4.262962e+12</td>\n",
       "      <td>F</td>\n",
       "      <td>2016-04-29T16:19:04Z</td>\n",
       "      <td>2016-04-29T00:00:00Z</td>\n",
       "      <td>62</td>\n",
       "      <td>MATA DA PRAIA</td>\n",
       "      <td>0</td>\n",
       "      <td>0</td>\n",
       "      <td>0</td>\n",
       "      <td>0</td>\n",
       "      <td>0</td>\n",
       "      <td>0</td>\n",
       "      <td>No</td>\n",
       "    </tr>\n",
       "    <tr>\n",
       "      <th>3</th>\n",
       "      <td>8.679512e+11</td>\n",
       "      <td>F</td>\n",
       "      <td>2016-04-29T17:29:31Z</td>\n",
       "      <td>2016-04-29T00:00:00Z</td>\n",
       "      <td>8</td>\n",
       "      <td>PONTAL DE CAMBURI</td>\n",
       "      <td>0</td>\n",
       "      <td>0</td>\n",
       "      <td>0</td>\n",
       "      <td>0</td>\n",
       "      <td>0</td>\n",
       "      <td>0</td>\n",
       "      <td>No</td>\n",
       "    </tr>\n",
       "    <tr>\n",
       "      <th>4</th>\n",
       "      <td>8.841186e+12</td>\n",
       "      <td>F</td>\n",
       "      <td>2016-04-29T16:07:23Z</td>\n",
       "      <td>2016-04-29T00:00:00Z</td>\n",
       "      <td>56</td>\n",
       "      <td>JARDIM DA PENHA</td>\n",
       "      <td>0</td>\n",
       "      <td>1</td>\n",
       "      <td>1</td>\n",
       "      <td>0</td>\n",
       "      <td>0</td>\n",
       "      <td>0</td>\n",
       "      <td>No</td>\n",
       "    </tr>\n",
       "  </tbody>\n",
       "</table>\n",
       "</div>"
      ],
      "text/plain": [
       "      PatientId Gender          ScheduledDay        AppointmentDay  Age  \\\n",
       "0  2.987250e+13      F  2016-04-29T18:38:08Z  2016-04-29T00:00:00Z   62   \n",
       "1  5.589978e+14      M  2016-04-29T16:08:27Z  2016-04-29T00:00:00Z   56   \n",
       "2  4.262962e+12      F  2016-04-29T16:19:04Z  2016-04-29T00:00:00Z   62   \n",
       "3  8.679512e+11      F  2016-04-29T17:29:31Z  2016-04-29T00:00:00Z    8   \n",
       "4  8.841186e+12      F  2016-04-29T16:07:23Z  2016-04-29T00:00:00Z   56   \n",
       "\n",
       "       Neighbourhood  Scholarship  Hipertension  Diabetes  Alcoholism  \\\n",
       "0    JARDIM DA PENHA            0             1         0           0   \n",
       "1    JARDIM DA PENHA            0             0         0           0   \n",
       "2      MATA DA PRAIA            0             0         0           0   \n",
       "3  PONTAL DE CAMBURI            0             0         0           0   \n",
       "4    JARDIM DA PENHA            0             1         1           0   \n",
       "\n",
       "   Handcap  SMS_received No_show  \n",
       "0        0             0      No  \n",
       "1        0             0      No  \n",
       "2        0             0      No  \n",
       "3        0             0      No  \n",
       "4        0             0      No  "
      ]
     },
     "execution_count": 8,
     "metadata": {},
     "output_type": "execute_result"
    }
   ],
   "source": [
    "df.drop(columns=['AppointmentID'], axis=1, inplace=True)\n",
    "df.head()"
   ]
  },
  {
   "cell_type": "markdown",
   "metadata": {},
   "source": [
    ">file reading, Dropping unwanted columns since appointment id is unique for each appointment"
   ]
  },
  {
   "cell_type": "markdown",
   "metadata": {},
   "source": [
    "\n",
    "### Data Cleaning\n",
    "> the first step is to check if the dataframe has any null datapoints, then checking for unrealstic values"
   ]
  },
  {
   "cell_type": "code",
   "execution_count": 9,
   "metadata": {},
   "outputs": [
    {
     "data": {
      "text/plain": [
       "False"
      ]
     },
     "execution_count": 9,
     "metadata": {},
     "output_type": "execute_result"
    }
   ],
   "source": [
    "df.isnull().values.any()\n"
   ]
  },
  {
   "cell_type": "markdown",
   "metadata": {},
   "source": [
    "> check for negative ages"
   ]
  },
  {
   "cell_type": "code",
   "execution_count": 10,
   "metadata": {},
   "outputs": [
    {
     "data": {
      "text/html": [
       "<div>\n",
       "<style scoped>\n",
       "    .dataframe tbody tr th:only-of-type {\n",
       "        vertical-align: middle;\n",
       "    }\n",
       "\n",
       "    .dataframe tbody tr th {\n",
       "        vertical-align: top;\n",
       "    }\n",
       "\n",
       "    .dataframe thead th {\n",
       "        text-align: right;\n",
       "    }\n",
       "</style>\n",
       "<table border=\"1\" class=\"dataframe\">\n",
       "  <thead>\n",
       "    <tr style=\"text-align: right;\">\n",
       "      <th></th>\n",
       "      <th>PatientId</th>\n",
       "      <th>Gender</th>\n",
       "      <th>ScheduledDay</th>\n",
       "      <th>AppointmentDay</th>\n",
       "      <th>Age</th>\n",
       "      <th>Neighbourhood</th>\n",
       "      <th>Scholarship</th>\n",
       "      <th>Hipertension</th>\n",
       "      <th>Diabetes</th>\n",
       "      <th>Alcoholism</th>\n",
       "      <th>Handcap</th>\n",
       "      <th>SMS_received</th>\n",
       "      <th>No_show</th>\n",
       "    </tr>\n",
       "  </thead>\n",
       "  <tbody>\n",
       "    <tr>\n",
       "      <th>99832</th>\n",
       "      <td>4.659432e+14</td>\n",
       "      <td>F</td>\n",
       "      <td>2016-06-06T08:58:13Z</td>\n",
       "      <td>2016-06-06T00:00:00Z</td>\n",
       "      <td>-1</td>\n",
       "      <td>ROMÃO</td>\n",
       "      <td>0</td>\n",
       "      <td>0</td>\n",
       "      <td>0</td>\n",
       "      <td>0</td>\n",
       "      <td>0</td>\n",
       "      <td>0</td>\n",
       "      <td>No</td>\n",
       "    </tr>\n",
       "  </tbody>\n",
       "</table>\n",
       "</div>"
      ],
      "text/plain": [
       "          PatientId Gender          ScheduledDay        AppointmentDay  Age  \\\n",
       "99832  4.659432e+14      F  2016-06-06T08:58:13Z  2016-06-06T00:00:00Z   -1   \n",
       "\n",
       "      Neighbourhood  Scholarship  Hipertension  Diabetes  Alcoholism  Handcap  \\\n",
       "99832         ROMÃO            0             0         0           0        0   \n",
       "\n",
       "       SMS_received No_show  \n",
       "99832             0      No  "
      ]
     },
     "execution_count": 10,
     "metadata": {},
     "output_type": "execute_result"
    }
   ],
   "source": [
    "df.loc[df['Age'] < 0]"
   ]
  },
  {
   "cell_type": "markdown",
   "metadata": {},
   "source": [
    ">None is epmty, but there's a negative value in Age we can droped it "
   ]
  },
  {
   "cell_type": "code",
   "execution_count": 11,
   "metadata": {
    "scrolled": true
   },
   "outputs": [],
   "source": [
    "df.drop(df.loc[df['Age'] < 0 ].index, inplace=True)"
   ]
  },
  {
   "cell_type": "markdown",
   "metadata": {},
   "source": [
    ">droping the negative row"
   ]
  },
  {
   "cell_type": "markdown",
   "metadata": {},
   "source": [
    "<a id='eda'></a>\n",
    "## Exploratory Data Analysis\n",
    "\n",
    "> In this section we will explore the data by plotting and applying statistical tests\n",
    "\n",
    "<a id=\"Q2\"></a>\n",
    "### What gender is least to attend / more ?"
   ]
  },
  {
   "cell_type": "code",
   "execution_count": 12,
   "metadata": {},
   "outputs": [
    {
     "data": {
      "image/png": "[encoded data removed]",
      "text/plain": [
       "<Figure size 640x480 with 1 Axes>"
      ]
     },
     "metadata": {},
     "output_type": "display_data"
    }
   ],
   "source": [
    "count_plot(df, 'No_show', False, 0.3, 'show vs no show')"
   ]
  },
  {
   "cell_type": "markdown",
   "metadata": {},
   "source": [
    "> No here being people who showed to thier Appointment\n",
    "\n",
    " > <b> 1- we can see that the data is imblanced only 20% didn't show up  <b>"
   ]
  },
  {
   "cell_type": "code",
   "execution_count": 13,
   "metadata": {},
   "outputs": [
    {
     "data": {
      "image/png": "[encoded data removed]",
      "text/plain": [
       "<Figure size 640x480 with 1 Axes>"
      ]
     },
     "metadata": {},
     "output_type": "display_data"
    }
   ],
   "source": [
    "    figure, axis = plt.subplots()\n",
    "    tik1 = ['Females', 'Males']\n",
    "    x1 = np.arange(len(tik1))\n",
    "    female_df = df.loc[df['Gender'] == 'F']\n",
    "    male_df = df.loc[df['Gender'] == 'M']\n",
    "    m = axis.bar(x1[1] + 0.1 / 6, len(male_df), 0.35, label='males')\n",
    "    f = axis.bar(x1[0] - 0.1 / 6, len(female_df), 0.35, label='females')\n",
    "\n",
    "    tki1 = ['Females', 'Males']\n",
    "    x1 = np.arange(len(tik1))\n",
    "    axis.set_xticks(x1, tik1)\n",
    "    axis.set_ylabel('total')\n",
    "    axis.title.set_text('Genders')\n",
    "    axis.bar_label(m, padding=3) \n",
    "    axis.bar_label(f, padding=3) \n",
    "    plt.legend()\n",
    "    plt.show()"
   ]
  },
  {
   "cell_type": "markdown",
   "metadata": {},
   "source": [
    ">we can see that female patients are more than male patients, "
   ]
  },
  {
   "cell_type": "code",
   "execution_count": 14,
   "metadata": {},
   "outputs": [
    {
     "data": {
      "text/plain": [
       "<matplotlib.legend.Legend at 0x2587051f2d0>"
      ]
     },
     "execution_count": 14,
     "metadata": {},
     "output_type": "execute_result"
    },
    {
     "data": {
      "image/png": "[encoded data removed]",
      "text/plain": [
       "<Figure size 640x480 with 1 Axes>"
      ]
     },
     "metadata": {},
     "output_type": "display_data"
    }
   ],
   "source": [
    "figure, axis = plt.subplots()\n",
    "\n",
    "sm = axis.bar(x1[1] + 0.04 / 4, len(male_df.loc[male_df['No_show'] == 'No']), 0.3, label=\"showed males\")\n",
    "sf = axis.bar(x1[0] - 0.04 / 4, len(female_df.loc[female_df['No_show'] == 'No']), 0.3, label=\"showed females\")\n",
    "\n",
    "axis.set_xticks(x1, tik1)\n",
    "axis.set_ylabel('total attendance')\n",
    "axis.title.set_text('Genders attendance')\n",
    "\n",
    "\n",
    "axis.bar_label(sf, padding=3)\n",
    "axis.bar_label(sm, padding=3)\n",
    "\n",
    "axis.legend()"
   ]
  },
  {
   "cell_type": "markdown",
   "metadata": {},
   "source": [
    ">same goes with the number of attendance,\n",
    "but on avg which attends more"
   ]
  },
  {
   "cell_type": "code",
   "execution_count": 15,
   "metadata": {},
   "outputs": [
    {
     "name": "stdout",
     "output_type": "stream",
     "text": [
      "Females  :  79.685 %\n",
      " Males  :  80.032 %\n"
     ]
    }
   ],
   "source": [
    "percentage('Females','Males', len(female_df.loc[female_df['No_show'] == 'No'])\n",
    "           , len(female_df), len(male_df.loc[male_df['No_show'] == 'No'])\n",
    "           , len(male_df))"
   ]
  },
  {
   "cell_type": "markdown",
   "metadata": {},
   "source": [
    ">males have a higher avg but not by much"
   ]
  },
  {
   "cell_type": "markdown",
   "metadata": {},
   "source": [
    "<a id=\"Q3\"></a></li>\n",
    "### What’s the age disruption"
   ]
  },
  {
   "cell_type": "code",
   "execution_count": 16,
   "metadata": {},
   "outputs": [
    {
     "data": {
      "text/plain": [
       "<matplotlib.legend.Legend at 0x2586b530550>"
      ]
     },
     "execution_count": 16,
     "metadata": {},
     "output_type": "execute_result"
    },
    {
     "data": {
      "image/png": "[encoded data removed]",
      "text/plain": [
       "<Figure size 640x480 with 1 Axes>"
      ]
     },
     "metadata": {},
     "output_type": "display_data"
    }
   ],
   "source": [
    "figure, axis = plt.subplots()\n",
    "axis.hist(df['Age'], label='Patients per age group', bins=20)\n",
    "axis.hist(df['Age'].loc[df['No_show'] == 'No'], label='showed up Patients per age group', color=\"#77AC30\", bins=20)\n",
    "axis.title.set_text('ages histogram')\n",
    "plt.ylabel(\"Patients\")\n",
    "plt.xlabel(\"Age group\")\n",
    "axis.legend()\n"
   ]
  },
  {
   "cell_type": "markdown",
   "metadata": {},
   "source": [
    ">we can see that the biggest age group is bellow 10 while the least are above 85 \n"
   ]
  },
  {
   "cell_type": "markdown",
   "metadata": {},
   "source": [
    "<a id=\"Q4\"></a></li>\n",
    "### What disease is more to attend / less"
   ]
  },
  {
   "cell_type": "code",
   "execution_count": 17,
   "metadata": {},
   "outputs": [],
   "source": [
    "show_male_array = get_dis(male_df, \"No\")\n",
    "show_female_array = get_dis(female_df, \"No\")\n",
    "total_male_dis = np.add(show_male_array, get_dis(male_df, \"Yes\"))\n",
    "total_female_dis = np.add(show_female_array, get_dis(female_df, \"Yes\"))"
   ]
  },
  {
   "cell_type": "markdown",
   "metadata": {},
   "source": [
    "Get dieases and shcolar for each gender "
   ]
  },
  {
   "cell_type": "code",
   "execution_count": 18,
   "metadata": {
    "scrolled": false
   },
   "outputs": [
    {
     "data": {
      "text/plain": [
       "<matplotlib.legend.Legend at 0x258712142d0>"
      ]
     },
     "execution_count": 18,
     "metadata": {},
     "output_type": "execute_result"
    },
    {
     "data": {
      "image/png": "[encoded data removed]",
      "text/plain": [
       "<Figure size 640x480 with 1 Axes>"
      ]
     },
     "metadata": {},
     "output_type": "display_data"
    }
   ],
   "source": [
    "    figure, axis = plt.subplots()\n",
    "    tik0 = ['None','Hipertension', 'Scholarship',  'Diabetes', 'Alcoholism', 'Handicap']\n",
    "    x = np.arange(len(tik0))\n",
    "    width = .35\n",
    "\n",
    "    m = axis.bar(x + width / 2, total_male_dis, width, label='males')\n",
    "    f = axis.bar(x - width / 2,  total_female_dis, width, label='females')\n",
    "    axis.set_xticks(x, tik0)\n",
    "    axis.set_ylabel('total')\n",
    "    axis.title.set_text('Disease/shcolarship')\n",
    "    axis.bar_label(m, padding=1)\n",
    "    axis.bar_label(f, padding=1)\n",
    "    axis.legend()"
   ]
  },
  {
   "cell_type": "markdown",
   "metadata": {},
   "source": [
    ">We can see from the graph that most patients have other disease,\n",
    "followed by patients who suffer from hypertension, (female lead on all\n",
    "except alcoholism)"
   ]
  },
  {
   "cell_type": "code",
   "execution_count": 19,
   "metadata": {},
   "outputs": [
    {
     "data": {
      "text/plain": [
       "<matplotlib.legend.Legend at 0x25871270550>"
      ]
     },
     "execution_count": 19,
     "metadata": {},
     "output_type": "execute_result"
    },
    {
     "data": {
      "image/png": "[encoded data removed]",
      "text/plain": [
       "<Figure size 640x480 with 1 Axes>"
      ]
     },
     "metadata": {},
     "output_type": "display_data"
    }
   ],
   "source": [
    "    figure, axis = plt.subplots()\n",
    "\n",
    "    m = axis.bar(x + width / 2, show_male_array, width, label='Attendance males')\n",
    "    f = axis.bar(x - width / 2,  show_female_array, width, label='Attendance females')\n",
    "    axis.set_xticks(x, tik0)\n",
    "    axis.set_ylabel('total Attendance')\n",
    "    axis.title.set_text('Disease/shcolarship Attendance')\n",
    "    axis.bar_label(m, padding=3)\n",
    "    axis.bar_label(f, padding=3)\n",
    "    axis.legend()"
   ]
  },
  {
   "cell_type": "code",
   "execution_count": 20,
   "metadata": {},
   "outputs": [
    {
     "name": "stdout",
     "output_type": "stream",
     "text": [
      "[79.32970228 82.7452801  76.4940239  82.32777065 82.73280299 82.69454123] \n",
      " [78.93037075 82.67814069 76.21145374 81.8587228  74.81602617 81.6257409 ]\n"
     ]
    }
   ],
   "source": [
    "perc_male = np.multiply(np.divide(show_male_array, total_male_dis), 100)\n",
    "perc_female = np.multiply(np.divide(show_female_array,total_female_dis),100)\n",
    "print(perc_male,\"\\n\",perc_female)"
   ]
  },
  {
   "cell_type": "markdown",
   "metadata": {},
   "source": [
    ">highest attendance in male is for alcoholism (82.73%) followed by handicap (82.69%) and diabetes (82.32%)\n",
    "highest attendance in female is for hipertension (82.67%) followed by handicap (81.85%) and None (other diseases 78.93%) \n",
    "\n",
    "(output have the same order as the graph)"
   ]
  },
  {
   "cell_type": "markdown",
   "metadata": {},
   "source": [
    "\n",
    "<a id=\"Q5\"></a></li>\n",
    "### What is the date of the min max  attendants/appointment made in a day / "
   ]
  },
  {
   "cell_type": "markdown",
   "metadata": {},
   "source": [
    ">lets first make AppointmentDay , ScheduledDay into datetime so we can proccess them "
   ]
  },
  {
   "cell_type": "code",
   "execution_count": 21,
   "metadata": {},
   "outputs": [
    {
     "name": "stdout",
     "output_type": "stream",
     "text": [
      "Appointment made per day maximum :\n",
      "2016-06-06 00:00:00+00:00\n",
      "\n",
      "Appointment made per day minimum :\n",
      "2016-05-14 00:00:00+00:00\n",
      "\n",
      "Attendance per day maximum :\n",
      "2016-03-29 10:44:23+00:00\n",
      "\n",
      "Attendance per day minimum :\n",
      "2015-11-10 07:13:56+00:00\n",
      "\n"
     ]
    }
   ],
   "source": [
    "df['AppointmentDay'] = pd.to_datetime(df['AppointmentDay'], format=\"%Y-%m-%d\", errors='coerce') # changing data format\n",
    "df['ScheduledDay'] = pd.to_datetime(df['ScheduledDay'], format=\"%Y-%m-%d\", errors='coerce')\n",
    "show_df = df.loc[df['No_show'] == 'No']\n",
    "df_sum_appointment_dates = sum_dates(df,'AppointmentDay', 'Appointment made per day')\n",
    "\n",
    "\n",
    "df_sumed_Scheduled_dates = sum_dates(df,'ScheduledDay', False)\n",
    "\n",
    "df_sumed_Attendance_dates = sum_dates(show_df,\n",
    "                                          'ScheduledDay', 'Attendance per day')"
   ]
  },
  {
   "cell_type": "markdown",
   "metadata": {},
   "source": [
    "<a id=\"Q6\"></a></li>\n",
    "### Which week day is most attended/appointment made in a day "
   ]
  },
  {
   "cell_type": "markdown",
   "metadata": {},
   "source": [
    "appointments made per weekday plotting"
   ]
  },
  {
   "cell_type": "code",
   "execution_count": 22,
   "metadata": {
    "scrolled": false
   },
   "outputs": [
    {
     "data": {
      "image/png": "[encoded data removed]",
      "text/plain": [
       "<Figure size 640x480 with 1 Axes>"
      ]
     },
     "metadata": {},
     "output_type": "display_data"
    }
   ],
   "source": [
    "fig, axis = plt.subplots()\n",
    "\n",
    "sf = axis.bar(df_sum_appointment_dates['AppointmentDay'], df_sum_appointment_dates['count'], label='Appointments per day')\n",
    "axis.bar_label(sf, padding=3)\n",
    "axis.title.set_text(\"Appointments made per weekday\")\n",
    "axis.set_ylabel(\"appointments made\")\n",
    "axis.set_xlabel(\"week day\")\n",
    "axis.legend()\n",
    "plt.tight_layout()\n",
    "plt.show()"
   ]
  },
  {
   "cell_type": "markdown",
   "metadata": {},
   "source": [
    ">We can see from the graph that saturday does have the least  amount of appointments made, while wednesday have the highest"
   ]
  },
  {
   "cell_type": "markdown",
   "metadata": {},
   "source": [
    "Number of schedules per weekday plotting"
   ]
  },
  {
   "cell_type": "code",
   "execution_count": 23,
   "metadata": {
    "scrolled": false
   },
   "outputs": [
    {
     "data": {
      "text/plain": [
       "<matplotlib.legend.Legend at 0x2587115c410>"
      ]
     },
     "execution_count": 23,
     "metadata": {},
     "output_type": "execute_result"
    },
    {
     "data": {
      "image/png": "[encoded data removed]",
      "text/plain": [
       "<Figure size 640x480 with 1 Axes>"
      ]
     },
     "metadata": {},
     "output_type": "display_data"
    }
   ],
   "source": [
    "fig, axis = plt.subplots()\n",
    "a = axis.bar(df_sumed_Scheduled_dates['ScheduledDay'], df_sumed_Scheduled_dates['count']\n",
    "                   , label='Scheduled per weekday')\n",
    "axis.set_ylabel(\"Total scheudules\")\n",
    "axis.set_xlabel(\"week day\")\n",
    "axis.bar_label(a, padding=2)\n",
    "axis.title.set_text(\"Number of schedules per weekday\")\n",
    "axis.legend()"
   ]
  },
  {
   "cell_type": "markdown",
   "metadata": {},
   "source": [
    ">we can see from this graph that the lowest picked Scheduled weekday is Sat, and the highest is Tue "
   ]
  },
  {
   "cell_type": "markdown",
   "metadata": {},
   "source": [
    "Number of Attendance per weekday plotting"
   ]
  },
  {
   "cell_type": "code",
   "execution_count": 24,
   "metadata": {},
   "outputs": [
    {
     "data": {
      "image/png": "[encoded data removed]",
      "text/plain": [
       "<Figure size 640x480 with 1 Axes>"
      ]
     },
     "metadata": {},
     "output_type": "display_data"
    }
   ],
   "source": [
    "fig, axis = plt.subplots()\n",
    "sf = axis.bar(df_sumed_Attendance_dates['ScheduledDay'], df_sumed_Attendance_dates['count'],\n",
    "                   label='Attendance', color=\"#77AC30\")\n",
    "axis.title.set_text(\"Number of Attendance per weekday\")\n",
    "axis.set_ylabel(\"Total Attendance\")\n",
    "axis.set_xlabel(\"week day\")\n",
    "axis.bar_label(sf, padding=2)\n",
    "axis.legend()\n",
    "plt.tight_layout()\n",
    "plt.show()"
   ]
  },
  {
   "cell_type": "markdown",
   "metadata": {},
   "source": [
    ">we can see from this graph that the lowest picked Attendance weekday is Sat, and the highest is Tue "
   ]
  },
  {
   "cell_type": "markdown",
   "metadata": {},
   "source": [
    "<a id=\"correlation Analysis\"></a></li>\n",
    "## correlation Analysis"
   ]
  },
  {
   "cell_type": "markdown",
   "metadata": {},
   "source": [
    "<a id=\"Q1\"></a></li>\n",
    "### Is there a relation between receiving an sms and attending ?  "
   ]
  },
  {
   "cell_type": "markdown",
   "metadata": {},
   "source": [
    "call chi square and print the final result (if p is more than 5% recject if less accept) "
   ]
  },
  {
   "cell_type": "code",
   "execution_count": 25,
   "metadata": {},
   "outputs": [],
   "source": [
    "def hipo(arr, hippo):  # , x, y, val_of_x, val_of_y\n",
    "    chi, p, dim, ar = chi2_contingency(arr)\n",
    "\n",
    "    if p < 0.05:\n",
    "        print(hippo, ' is accepted there is dependence p : ', round(p,5))\n",
    "    else:\n",
    "        print(hippo, ' is rejected there is independence p : ', round(p,5))"
   ]
  },
  {
   "cell_type": "markdown",
   "metadata": {},
   "source": [
    "Send a 2d numpy array that contains ([sms, show, sms, NoShow],[NoSms, show, Nosms, NoShow])"
   ]
  },
  {
   "cell_type": "code",
   "execution_count": 26,
   "metadata": {},
   "outputs": [
    {
     "name": "stdout",
     "output_type": "stream",
     "text": [
      "There is a relation between SMS and attendance  is accepted there is dependence p :  0.0\n"
     ]
    }
   ],
   "source": [
    "sms_hipo_arr = np.array([[len(df.loc[(df['SMS_received'] == 0) & (df['No_show'] == 'No')]),\n",
    "                    len(df.loc[(df['SMS_received'] == 0) & (df['No_show'] == 'Yes')])]\n",
    "                       , [len(df.loc[(df['SMS_received'] == 1) & (df['No_show'] == 'No')]),\n",
    "                    len(df.loc[(df['SMS_received'] == 1) & (df['No_show'] == 'Yes')])]])\n",
    "hipo(sms_hipo_arr, \"There is a relation between SMS and attendance\")"
   ]
  },
  {
   "cell_type": "markdown",
   "metadata": {},
   "source": [
    "<a id=\"Q8\"></a></li>\n",
    "### Is there a relation between having a scholarship and attending ?  "
   ]
  },
  {
   "cell_type": "markdown",
   "metadata": {},
   "source": [
    "Send a 2d numpy array that contains ([Scholar, show, Scholar, NoShow],[NoScholar, show, NoScholar, NoShow])"
   ]
  },
  {
   "cell_type": "code",
   "execution_count": 27,
   "metadata": {},
   "outputs": [
    {
     "name": "stdout",
     "output_type": "stream",
     "text": [
      "There is a relation between Scholarship and attendance  is accepted there is dependence p :  0.0\n"
     ]
    }
   ],
   "source": [
    "Scholar_hipo_arr = np.array([[len(df.loc[(df['Scholarship'] == 0) & (df['No_show'] == 'No')]),\n",
    "                    len(df.loc[(df['Scholarship'] == 0) & (df['No_show'] == 'Yes')])]\n",
    "                       , [len(df.loc[(df['Scholarship'] == 1) & (df['No_show'] == 'No')]),\n",
    "                    len(df.loc[(df['Scholarship'] == 1) & (df['No_show'] == 'Yes')])]])\n",
    "hipo(Scholar_hipo_arr, \"There is a relation between Scholarship and attendance\")"
   ]
  },
  {
   "cell_type": "markdown",
   "metadata": {},
   "source": [
    "<a id=\"Q9\"></a></li>\n",
    "### Is there a relation between Gender and attending ? "
   ]
  },
  {
   "cell_type": "markdown",
   "metadata": {},
   "source": [
    "Send a 2d numpy array that contains ([Female, show, Female, NoShow],[Male, show, Male, NoShow])"
   ]
  },
  {
   "cell_type": "code",
   "execution_count": 28,
   "metadata": {},
   "outputs": [
    {
     "name": "stdout",
     "output_type": "stream",
     "text": [
      "There is a relation between Gender and attendance  is rejected there is independence p :  0.17303\n"
     ]
    }
   ],
   "source": [
    "gen_hipo_arr = np.array([[len(df.loc[(df['Gender'] == 'F') & (df['No_show'] == 'No')]),\n",
    "                    len(df.loc[(df['Gender'] == 'F') & (df['No_show'] == 'Yes')])]\n",
    "                       , [len(df.loc[(df['Gender'] == 'M') & (df['No_show'] == 'No')]),\n",
    "                    len(df.loc[(df['Gender'] == 'M') & (df['No_show'] == 'Yes')])]])\n",
    "hipo(gen_hipo_arr, \"There is a relation between Gender and attendance\")"
   ]
  },
  {
   "cell_type": "markdown",
   "metadata": {},
   "source": [
    "<a id=\"Q10\"></a></li>\n",
    "### Is there a relation between disease attending ? "
   ]
  },
  {
   "cell_type": "markdown",
   "metadata": {},
   "source": [
    "Getting the number of diseases for showing and not showing patients"
   ]
  },
  {
   "cell_type": "code",
   "execution_count": 29,
   "metadata": {},
   "outputs": [],
   "source": [
    "show_dis_array = np.add(show_female_array, show_male_array)\n",
    "total_dis_array = np.add(total_male_dis, total_female_dis)\n",
    "NoShow_dis_array = np.subtract(total_dis_array, show_dis_array)\n"
   ]
  },
  {
   "cell_type": "markdown",
   "metadata": {},
   "source": [
    "Send a 2d numpy array that contains ([NoDis, show, NoDis, NoShow],[hypertenison, show, hypertenison, NoShow],['Scholarship', show, 'Scholarship', NoShow], [Diabetes, show, Diabetes, NoShow],[Alcoholism, show, Alcoholism, NoShow] [Handicap, show, Handicap, NoShow])"
   ]
  },
  {
   "cell_type": "code",
   "execution_count": 30,
   "metadata": {},
   "outputs": [
    {
     "name": "stdout",
     "output_type": "stream",
     "text": [
      "There is a relation between disease and attendance  is accepted there is dependence p :  0.0\n"
     ]
    }
   ],
   "source": [
    "\n",
    "dis_hipo_arr = np.array([[show_dis_array[0],NoShow_dis_array[0]],[show_dis_array[1],NoShow_dis_array[1]],\n",
    "                        [show_dis_array[2],NoShow_dis_array[2]],[show_dis_array[3],NoShow_dis_array[3]],\n",
    "                        [show_dis_array[4],NoShow_dis_array[4]],[show_dis_array[5],NoShow_dis_array[5]]])\n",
    "hipo(dis_hipo_arr, \"There is a relation between disease and attendance\")"
   ]
  },
  {
   "cell_type": "markdown",
   "metadata": {},
   "source": [
    "<a id='Data pre-processing'></a>\n",
    "# Data pre-processing"
   ]
  },
  {
   "cell_type": "markdown",
   "metadata": {},
   "source": [
    "> in this section i will look at balancing the data and splting them "
   ]
  },
  {
   "cell_type": "markdown",
   "metadata": {},
   "source": [
    "> first of all lets create all the dummpy values we need, and map no show and gender into 0 and 1 "
   ]
  },
  {
   "cell_type": "code",
   "execution_count": 31,
   "metadata": {},
   "outputs": [
    {
     "data": {
      "text/html": [
       "<div>\n",
       "<style scoped>\n",
       "    .dataframe tbody tr th:only-of-type {\n",
       "        vertical-align: middle;\n",
       "    }\n",
       "\n",
       "    .dataframe tbody tr th {\n",
       "        vertical-align: top;\n",
       "    }\n",
       "\n",
       "    .dataframe thead th {\n",
       "        text-align: right;\n",
       "    }\n",
       "</style>\n",
       "<table border=\"1\" class=\"dataframe\">\n",
       "  <thead>\n",
       "    <tr style=\"text-align: right;\">\n",
       "      <th></th>\n",
       "      <th>PatientId</th>\n",
       "      <th>Gender</th>\n",
       "      <th>ScheduledDay</th>\n",
       "      <th>AppointmentDay</th>\n",
       "      <th>Age</th>\n",
       "      <th>Neighbourhood</th>\n",
       "      <th>Scholarship</th>\n",
       "      <th>Hipertension</th>\n",
       "      <th>Diabetes</th>\n",
       "      <th>Alcoholism</th>\n",
       "      <th>Handcap</th>\n",
       "      <th>SMS_received</th>\n",
       "      <th>No_show</th>\n",
       "      <th>ap_year</th>\n",
       "      <th>ap_month</th>\n",
       "      <th>ap_day</th>\n",
       "      <th>sc_year</th>\n",
       "      <th>sc_month</th>\n",
       "      <th>sc_day</th>\n",
       "    </tr>\n",
       "  </thead>\n",
       "  <tbody>\n",
       "    <tr>\n",
       "      <th>0</th>\n",
       "      <td>2.987250e+13</td>\n",
       "      <td>0</td>\n",
       "      <td>2016-04-29 18:38:08+00:00</td>\n",
       "      <td>2016-04-29 00:00:00+00:00</td>\n",
       "      <td>62</td>\n",
       "      <td>JARDIM DA PENHA</td>\n",
       "      <td>0</td>\n",
       "      <td>1</td>\n",
       "      <td>0</td>\n",
       "      <td>0</td>\n",
       "      <td>0</td>\n",
       "      <td>0</td>\n",
       "      <td>0</td>\n",
       "      <td>2016</td>\n",
       "      <td>4</td>\n",
       "      <td>29</td>\n",
       "      <td>2016</td>\n",
       "      <td>4</td>\n",
       "      <td>29</td>\n",
       "    </tr>\n",
       "    <tr>\n",
       "      <th>1</th>\n",
       "      <td>5.589978e+14</td>\n",
       "      <td>1</td>\n",
       "      <td>2016-04-29 16:08:27+00:00</td>\n",
       "      <td>2016-04-29 00:00:00+00:00</td>\n",
       "      <td>56</td>\n",
       "      <td>JARDIM DA PENHA</td>\n",
       "      <td>0</td>\n",
       "      <td>0</td>\n",
       "      <td>0</td>\n",
       "      <td>0</td>\n",
       "      <td>0</td>\n",
       "      <td>0</td>\n",
       "      <td>0</td>\n",
       "      <td>2016</td>\n",
       "      <td>4</td>\n",
       "      <td>29</td>\n",
       "      <td>2016</td>\n",
       "      <td>4</td>\n",
       "      <td>29</td>\n",
       "    </tr>\n",
       "    <tr>\n",
       "      <th>2</th>\n",
       "      <td>4.262962e+12</td>\n",
       "      <td>0</td>\n",
       "      <td>2016-04-29 16:19:04+00:00</td>\n",
       "      <td>2016-04-29 00:00:00+00:00</td>\n",
       "      <td>62</td>\n",
       "      <td>MATA DA PRAIA</td>\n",
       "      <td>0</td>\n",
       "      <td>0</td>\n",
       "      <td>0</td>\n",
       "      <td>0</td>\n",
       "      <td>0</td>\n",
       "      <td>0</td>\n",
       "      <td>0</td>\n",
       "      <td>2016</td>\n",
       "      <td>4</td>\n",
       "      <td>29</td>\n",
       "      <td>2016</td>\n",
       "      <td>4</td>\n",
       "      <td>29</td>\n",
       "    </tr>\n",
       "    <tr>\n",
       "      <th>3</th>\n",
       "      <td>8.679512e+11</td>\n",
       "      <td>0</td>\n",
       "      <td>2016-04-29 17:29:31+00:00</td>\n",
       "      <td>2016-04-29 00:00:00+00:00</td>\n",
       "      <td>8</td>\n",
       "      <td>PONTAL DE CAMBURI</td>\n",
       "      <td>0</td>\n",
       "      <td>0</td>\n",
       "      <td>0</td>\n",
       "      <td>0</td>\n",
       "      <td>0</td>\n",
       "      <td>0</td>\n",
       "      <td>0</td>\n",
       "      <td>2016</td>\n",
       "      <td>4</td>\n",
       "      <td>29</td>\n",
       "      <td>2016</td>\n",
       "      <td>4</td>\n",
       "      <td>29</td>\n",
       "    </tr>\n",
       "    <tr>\n",
       "      <th>4</th>\n",
       "      <td>8.841186e+12</td>\n",
       "      <td>0</td>\n",
       "      <td>2016-04-29 16:07:23+00:00</td>\n",
       "      <td>2016-04-29 00:00:00+00:00</td>\n",
       "      <td>56</td>\n",
       "      <td>JARDIM DA PENHA</td>\n",
       "      <td>0</td>\n",
       "      <td>1</td>\n",
       "      <td>1</td>\n",
       "      <td>0</td>\n",
       "      <td>0</td>\n",
       "      <td>0</td>\n",
       "      <td>0</td>\n",
       "      <td>2016</td>\n",
       "      <td>4</td>\n",
       "      <td>29</td>\n",
       "      <td>2016</td>\n",
       "      <td>4</td>\n",
       "      <td>29</td>\n",
       "    </tr>\n",
       "  </tbody>\n",
       "</table>\n",
       "</div>"
      ],
      "text/plain": [
       "      PatientId  Gender              ScheduledDay            AppointmentDay  \\\n",
       "0  2.987250e+13       0 2016-04-29 18:38:08+00:00 2016-04-29 00:00:00+00:00   \n",
       "1  5.589978e+14       1 2016-04-29 16:08:27+00:00 2016-04-29 00:00:00+00:00   \n",
       "2  4.262962e+12       0 2016-04-29 16:19:04+00:00 2016-04-29 00:00:00+00:00   \n",
       "3  8.679512e+11       0 2016-04-29 17:29:31+00:00 2016-04-29 00:00:00+00:00   \n",
       "4  8.841186e+12       0 2016-04-29 16:07:23+00:00 2016-04-29 00:00:00+00:00   \n",
       "\n",
       "   Age      Neighbourhood  Scholarship  Hipertension  Diabetes  Alcoholism  \\\n",
       "0   62    JARDIM DA PENHA            0             1         0           0   \n",
       "1   56    JARDIM DA PENHA            0             0         0           0   \n",
       "2   62      MATA DA PRAIA            0             0         0           0   \n",
       "3    8  PONTAL DE CAMBURI            0             0         0           0   \n",
       "4   56    JARDIM DA PENHA            0             1         1           0   \n",
       "\n",
       "   Handcap  SMS_received  No_show  ap_year  ap_month  ap_day  sc_year  \\\n",
       "0        0             0        0     2016         4      29     2016   \n",
       "1        0             0        0     2016         4      29     2016   \n",
       "2        0             0        0     2016         4      29     2016   \n",
       "3        0             0        0     2016         4      29     2016   \n",
       "4        0             0        0     2016         4      29     2016   \n",
       "\n",
       "   sc_month  sc_day  \n",
       "0         4      29  \n",
       "1         4      29  \n",
       "2         4      29  \n",
       "3         4      29  \n",
       "4         4      29  "
      ]
     },
     "execution_count": 31,
     "metadata": {},
     "output_type": "execute_result"
    }
   ],
   "source": [
    "\n",
    "df_clean = df.copy()\n",
    "df_clean['No_show'] =df_clean['No_show'].map(({'No': 0,  'Yes': 1}))\n",
    "df_clean['Gender'] = df_clean['Gender'].map(({'F': 0,  'M': 1}))\n",
    "\n",
    "df_clean['ap_year'] = df_clean['AppointmentDay'].dt.year\n",
    "df_clean['ap_month'] = df_clean['AppointmentDay'].dt.month\n",
    "df_clean['ap_day'] = df_clean['AppointmentDay'].dt.day\n",
    "\n",
    "df_clean['sc_year'] = df_clean['ScheduledDay'].dt.year\n",
    "df_clean['sc_month'] = df_clean['ScheduledDay'].dt.month\n",
    "df_clean['sc_day'] = df_clean['ScheduledDay'].dt.day\n",
    "\n",
    "df_clean.head()"
   ]
  },
  {
   "cell_type": "markdown",
   "metadata": {},
   "source": [
    "> maping the gender and y value into 1 and 0 \n",
    "(0 : female, 1: male), (0: show, 1: no show)\n",
    "\n",
    "> spliting the dates into dummy values "
   ]
  },
  {
   "cell_type": "code",
   "execution_count": 32,
   "metadata": {},
   "outputs": [],
   "source": [
    "# arr = ['MATA DA PRAIA', 'ANDORINHAS', 'DA PENHA',\n",
    "#        'TABUAZEIRO', 'BENTO FERREIRA', 'SÃO CRISTÓVÃO', 'MARUÍPE',\n",
    "#        'GRANDE VITÓRIA', 'JABOUR', 'ILHA DE SANTA MARIA', 'JUCUTUQUARA',\n",
    "#        'MÁRIO CYPRESTE', 'SANTO ANTÔNIO', 'SANTA HELENA', 'INHANGUETÁ',\n",
    "#        'UNIVERSITÁRIO', 'SÃO JOSÉ', 'REDENÇÃO', 'SANTA CLARA', 'CENTRO',\n",
    "#        'PARQUE MOSCOSO', 'SANTOS DUMONT', 'CARATOÍRA', 'PRAIA DO CANTO',\n",
    "#        'ESTRELINHA', 'FORTE SÃO JOÃO', 'ENSEADA DO SUÁ', 'SANTOS REIS',\n",
    "#        'ROMÃO', 'COMDUSA', 'SANTA CECÍLIA', 'VILA RUBIM', 'DE LOURDES',\n",
    "#        'SEGURANÇA DO LAR', 'ILHA DO BOI', 'FRADINHOS', 'NAZARETH',\n",
    "#        'AEROPORTO']\n",
    "\n",
    "# arr = ['MORADA DE CAMBURI','PONTAL DE CAMBURI','ILHA DO BOI','ILHA DO FRADE',\n",
    "#        'AEROPORTO','ILHAS OCEÂNICAS DE TRINDADE','PARQUE INDUSTRIAL']\n",
    "\n",
    "# df_clean = df_clean.loc[~df_clean['Neighbourhood'].isin(arr)]\n"
   ]
  },
  {
   "cell_type": "code",
   "execution_count": 33,
   "metadata": {},
   "outputs": [
    {
     "name": "stdout",
     "output_type": "stream",
     "text": [
      "['JARDIM DA PENHA', 'MATA DA PRAIA', 'PONTAL DE CAMBURI', 'REPÚBLICA', 'GOIABEIRAS', 'ANDORINHAS', 'CONQUISTA', 'NOVA PALESTINA', 'DA PENHA', 'TABUAZEIRO', 'BENTO FERREIRA', 'SÃO PEDRO', 'SANTA MARTHA', 'SÃO CRISTÓVÃO', 'MARUÍPE', 'GRANDE VITÓRIA', 'SÃO BENEDITO', 'ILHA DAS CAIEIRAS', 'SANTO ANDRÉ', 'SOLON BORGES', 'BONFIM', 'JARDIM CAMBURI', 'MARIA ORTIZ', 'JABOUR', 'ANTÔNIO HONÓRIO', 'RESISTÊNCIA', 'ILHA DE SANTA MARIA', 'JUCUTUQUARA', 'MONTE BELO', 'MÁRIO CYPRESTE', 'SANTO ANTÔNIO', 'BELA VISTA', 'PRAIA DO SUÁ', 'SANTA HELENA', 'ITARARÉ', 'INHANGUETÁ', 'UNIVERSITÁRIO', 'SÃO JOSÉ', 'REDENÇÃO', 'SANTA CLARA', 'CENTRO', 'PARQUE MOSCOSO', 'DO MOSCOSO', 'SANTOS DUMONT', 'CARATOÍRA', 'ARIOVALDO FAVALESSA', 'ILHA DO FRADE', 'GURIGICA', 'JOANA D´ARC', 'CONSOLAÇÃO', 'PRAIA DO CANTO', 'BOA VISTA', 'MORADA DE CAMBURI', 'SANTA LUÍZA', 'SANTA LÚCIA', 'BARRO VERMELHO', 'ESTRELINHA', 'FORTE SÃO JOÃO', 'FONTE GRANDE', 'ENSEADA DO SUÁ', 'SANTOS REIS', 'PIEDADE', 'JESUS DE NAZARETH', 'SANTA TEREZA', 'CRUZAMENTO', 'ILHA DO PRÍNCIPE', 'ROMÃO', 'COMDUSA', 'SANTA CECÍLIA', 'VILA RUBIM', 'DE LOURDES', 'DO QUADRO', 'DO CABRAL', 'HORTO', 'SEGURANÇA DO LAR', 'ILHA DO BOI', 'FRADINHOS', 'NAZARETH', 'AEROPORTO', 'ILHAS OCEÂNICAS DE TRINDADE', 'PARQUE INDUSTRIAL']\n"
     ]
    }
   ],
   "source": [
    "a = df_clean.Neighbourhood.drop_duplicates()\n",
    "\n",
    "print(a.tolist())"
   ]
  },
  {
   "cell_type": "code",
   "execution_count": 34,
   "metadata": {
    "scrolled": true
   },
   "outputs": [
    {
     "name": "stdout",
     "output_type": "stream",
     "text": [
      "<class 'pandas.core.frame.DataFrame'>\n",
      "Int64Index: 110526 entries, 0 to 110526\n",
      "Data columns (total 100 columns):\n",
      " #   Column                       Non-Null Count   Dtype              \n",
      "---  ------                       --------------   -----              \n",
      " 0   PatientId                    110526 non-null  float64            \n",
      " 1   Gender                       110526 non-null  int64              \n",
      " 2   ScheduledDay                 110526 non-null  datetime64[ns, UTC]\n",
      " 3   AppointmentDay               110526 non-null  datetime64[ns, UTC]\n",
      " 4   Age                          110526 non-null  int64              \n",
      " 5   Neighbourhood                110526 non-null  object             \n",
      " 6   Scholarship                  110526 non-null  int64              \n",
      " 7   Hipertension                 110526 non-null  int64              \n",
      " 8   Diabetes                     110526 non-null  int64              \n",
      " 9   Alcoholism                   110526 non-null  int64              \n",
      " 10  Handcap                      110526 non-null  int64              \n",
      " 11  SMS_received                 110526 non-null  int64              \n",
      " 12  No_show                      110526 non-null  int64              \n",
      " 13  ap_year                      110526 non-null  int64              \n",
      " 14  ap_month                     110526 non-null  int64              \n",
      " 15  ap_day                       110526 non-null  int64              \n",
      " 16  sc_year                      110526 non-null  int64              \n",
      " 17  sc_month                     110526 non-null  int64              \n",
      " 18  sc_day                       110526 non-null  int64              \n",
      " 19  JARDIM DA PENHA              110526 non-null  uint8              \n",
      " 20  MATA DA PRAIA                110526 non-null  uint8              \n",
      " 21  PONTAL DE CAMBURI            110526 non-null  uint8              \n",
      " 22  REPÚBLICA                    110526 non-null  uint8              \n",
      " 23  GOIABEIRAS                   110526 non-null  uint8              \n",
      " 24  ANDORINHAS                   110526 non-null  uint8              \n",
      " 25  CONQUISTA                    110526 non-null  uint8              \n",
      " 26  NOVA PALESTINA               110526 non-null  uint8              \n",
      " 27  DA PENHA                     110526 non-null  uint8              \n",
      " 28  TABUAZEIRO                   110526 non-null  uint8              \n",
      " 29  BENTO FERREIRA               110526 non-null  uint8              \n",
      " 30  SÃO PEDRO                    110526 non-null  uint8              \n",
      " 31  SANTA MARTHA                 110526 non-null  uint8              \n",
      " 32  SÃO CRISTÓVÃO                110526 non-null  uint8              \n",
      " 33  MARUÍPE                      110526 non-null  uint8              \n",
      " 34  GRANDE VITÓRIA               110526 non-null  uint8              \n",
      " 35  SÃO BENEDITO                 110526 non-null  uint8              \n",
      " 36  ILHA DAS CAIEIRAS            110526 non-null  uint8              \n",
      " 37  SANTO ANDRÉ                  110526 non-null  uint8              \n",
      " 38  SOLON BORGES                 110526 non-null  uint8              \n",
      " 39  BONFIM                       110526 non-null  uint8              \n",
      " 40  JARDIM CAMBURI               110526 non-null  uint8              \n",
      " 41  MARIA ORTIZ                  110526 non-null  uint8              \n",
      " 42  JABOUR                       110526 non-null  uint8              \n",
      " 43  ANTÔNIO HONÓRIO              110526 non-null  uint8              \n",
      " 44  RESISTÊNCIA                  110526 non-null  uint8              \n",
      " 45  ILHA DE SANTA MARIA          110526 non-null  uint8              \n",
      " 46  JUCUTUQUARA                  110526 non-null  uint8              \n",
      " 47  MONTE BELO                   110526 non-null  uint8              \n",
      " 48  MÁRIO CYPRESTE               110526 non-null  uint8              \n",
      " 49  SANTO ANTÔNIO                110526 non-null  uint8              \n",
      " 50  BELA VISTA                   110526 non-null  uint8              \n",
      " 51  PRAIA DO SUÁ                 110526 non-null  uint8              \n",
      " 52  SANTA HELENA                 110526 non-null  uint8              \n",
      " 53  ITARARÉ                      110526 non-null  uint8              \n",
      " 54  INHANGUETÁ                   110526 non-null  uint8              \n",
      " 55  UNIVERSITÁRIO                110526 non-null  uint8              \n",
      " 56  SÃO JOSÉ                     110526 non-null  uint8              \n",
      " 57  REDENÇÃO                     110526 non-null  uint8              \n",
      " 58  SANTA CLARA                  110526 non-null  uint8              \n",
      " 59  CENTRO                       110526 non-null  uint8              \n",
      " 60  PARQUE MOSCOSO               110526 non-null  uint8              \n",
      " 61  DO MOSCOSO                   110526 non-null  uint8              \n",
      " 62  SANTOS DUMONT                110526 non-null  uint8              \n",
      " 63  CARATOÍRA                    110526 non-null  uint8              \n",
      " 64  ARIOVALDO FAVALESSA          110526 non-null  uint8              \n",
      " 65  ILHA DO FRADE                110526 non-null  uint8              \n",
      " 66  GURIGICA                     110526 non-null  uint8              \n",
      " 67  JOANA D´ARC                  110526 non-null  uint8              \n",
      " 68  CONSOLAÇÃO                   110526 non-null  uint8              \n",
      " 69  PRAIA DO CANTO               110526 non-null  uint8              \n",
      " 70  BOA VISTA                    110526 non-null  uint8              \n",
      " 71  MORADA DE CAMBURI            110526 non-null  uint8              \n",
      " 72  SANTA LUÍZA                  110526 non-null  uint8              \n",
      " 73  SANTA LÚCIA                  110526 non-null  uint8              \n",
      " 74  BARRO VERMELHO               110526 non-null  uint8              \n",
      " 75  ESTRELINHA                   110526 non-null  uint8              \n",
      " 76  FORTE SÃO JOÃO               110526 non-null  uint8              \n",
      " 77  FONTE GRANDE                 110526 non-null  uint8              \n",
      " 78  ENSEADA DO SUÁ               110526 non-null  uint8              \n",
      " 79  SANTOS REIS                  110526 non-null  uint8              \n",
      " 80  PIEDADE                      110526 non-null  uint8              \n",
      " 81  JESUS DE NAZARETH            110526 non-null  uint8              \n",
      " 82  SANTA TEREZA                 110526 non-null  uint8              \n",
      " 83  CRUZAMENTO                   110526 non-null  uint8              \n",
      " 84  ILHA DO PRÍNCIPE             110526 non-null  uint8              \n",
      " 85  ROMÃO                        110526 non-null  uint8              \n",
      " 86  COMDUSA                      110526 non-null  uint8              \n",
      " 87  SANTA CECÍLIA                110526 non-null  uint8              \n",
      " 88  VILA RUBIM                   110526 non-null  uint8              \n",
      " 89  DE LOURDES                   110526 non-null  uint8              \n",
      " 90  DO QUADRO                    110526 non-null  uint8              \n",
      " 91  DO CABRAL                    110526 non-null  uint8              \n",
      " 92  HORTO                        110526 non-null  uint8              \n",
      " 93  SEGURANÇA DO LAR             110526 non-null  uint8              \n",
      " 94  ILHA DO BOI                  110526 non-null  uint8              \n",
      " 95  FRADINHOS                    110526 non-null  uint8              \n",
      " 96  NAZARETH                     110526 non-null  uint8              \n",
      " 97  AEROPORTO                    110526 non-null  uint8              \n",
      " 98  ILHAS OCEÂNICAS DE TRINDADE  110526 non-null  uint8              \n",
      " 99  PARQUE INDUSTRIAL            110526 non-null  uint8              \n",
      "dtypes: datetime64[ns, UTC](2), float64(1), int64(15), object(1), uint8(81)\n",
      "memory usage: 25.4+ MB\n"
     ]
    }
   ],
   "source": [
    "df_clean[a] = pd.get_dummies(df_clean['Neighbourhood'])\n",
    "df_clean.info()"
   ]
  },
  {
   "cell_type": "markdown",
   "metadata": {},
   "source": [
    ">after getting a list of all nighbourhoods i made them into dummpy columns\n",
    ", current total is 101"
   ]
  },
  {
   "cell_type": "code",
   "execution_count": 35,
   "metadata": {},
   "outputs": [
    {
     "data": {
      "text/html": [
       "<div>\n",
       "<style scoped>\n",
       "    .dataframe tbody tr th:only-of-type {\n",
       "        vertical-align: middle;\n",
       "    }\n",
       "\n",
       "    .dataframe tbody tr th {\n",
       "        vertical-align: top;\n",
       "    }\n",
       "\n",
       "    .dataframe thead th {\n",
       "        text-align: right;\n",
       "    }\n",
       "</style>\n",
       "<table border=\"1\" class=\"dataframe\">\n",
       "  <thead>\n",
       "    <tr style=\"text-align: right;\">\n",
       "      <th></th>\n",
       "      <th>Gender</th>\n",
       "      <th>Age</th>\n",
       "      <th>Scholarship</th>\n",
       "      <th>Hipertension</th>\n",
       "      <th>Diabetes</th>\n",
       "      <th>Alcoholism</th>\n",
       "      <th>Handcap</th>\n",
       "      <th>SMS_received</th>\n",
       "      <th>ap_year</th>\n",
       "      <th>ap_month</th>\n",
       "      <th>...</th>\n",
       "      <th>DO QUADRO</th>\n",
       "      <th>DO CABRAL</th>\n",
       "      <th>HORTO</th>\n",
       "      <th>SEGURANÇA DO LAR</th>\n",
       "      <th>ILHA DO BOI</th>\n",
       "      <th>FRADINHOS</th>\n",
       "      <th>NAZARETH</th>\n",
       "      <th>AEROPORTO</th>\n",
       "      <th>ILHAS OCEÂNICAS DE TRINDADE</th>\n",
       "      <th>PARQUE INDUSTRIAL</th>\n",
       "    </tr>\n",
       "  </thead>\n",
       "  <tbody>\n",
       "    <tr>\n",
       "      <th>0</th>\n",
       "      <td>0</td>\n",
       "      <td>62</td>\n",
       "      <td>0</td>\n",
       "      <td>1</td>\n",
       "      <td>0</td>\n",
       "      <td>0</td>\n",
       "      <td>0</td>\n",
       "      <td>0</td>\n",
       "      <td>2016</td>\n",
       "      <td>4</td>\n",
       "      <td>...</td>\n",
       "      <td>0</td>\n",
       "      <td>0</td>\n",
       "      <td>0</td>\n",
       "      <td>0</td>\n",
       "      <td>0</td>\n",
       "      <td>0</td>\n",
       "      <td>0</td>\n",
       "      <td>0</td>\n",
       "      <td>0</td>\n",
       "      <td>0</td>\n",
       "    </tr>\n",
       "    <tr>\n",
       "      <th>1</th>\n",
       "      <td>1</td>\n",
       "      <td>56</td>\n",
       "      <td>0</td>\n",
       "      <td>0</td>\n",
       "      <td>0</td>\n",
       "      <td>0</td>\n",
       "      <td>0</td>\n",
       "      <td>0</td>\n",
       "      <td>2016</td>\n",
       "      <td>4</td>\n",
       "      <td>...</td>\n",
       "      <td>0</td>\n",
       "      <td>0</td>\n",
       "      <td>0</td>\n",
       "      <td>0</td>\n",
       "      <td>0</td>\n",
       "      <td>0</td>\n",
       "      <td>0</td>\n",
       "      <td>0</td>\n",
       "      <td>0</td>\n",
       "      <td>0</td>\n",
       "    </tr>\n",
       "    <tr>\n",
       "      <th>2</th>\n",
       "      <td>0</td>\n",
       "      <td>62</td>\n",
       "      <td>0</td>\n",
       "      <td>0</td>\n",
       "      <td>0</td>\n",
       "      <td>0</td>\n",
       "      <td>0</td>\n",
       "      <td>0</td>\n",
       "      <td>2016</td>\n",
       "      <td>4</td>\n",
       "      <td>...</td>\n",
       "      <td>0</td>\n",
       "      <td>0</td>\n",
       "      <td>0</td>\n",
       "      <td>0</td>\n",
       "      <td>0</td>\n",
       "      <td>0</td>\n",
       "      <td>0</td>\n",
       "      <td>0</td>\n",
       "      <td>0</td>\n",
       "      <td>0</td>\n",
       "    </tr>\n",
       "    <tr>\n",
       "      <th>3</th>\n",
       "      <td>0</td>\n",
       "      <td>8</td>\n",
       "      <td>0</td>\n",
       "      <td>0</td>\n",
       "      <td>0</td>\n",
       "      <td>0</td>\n",
       "      <td>0</td>\n",
       "      <td>0</td>\n",
       "      <td>2016</td>\n",
       "      <td>4</td>\n",
       "      <td>...</td>\n",
       "      <td>0</td>\n",
       "      <td>0</td>\n",
       "      <td>0</td>\n",
       "      <td>0</td>\n",
       "      <td>0</td>\n",
       "      <td>0</td>\n",
       "      <td>0</td>\n",
       "      <td>0</td>\n",
       "      <td>0</td>\n",
       "      <td>0</td>\n",
       "    </tr>\n",
       "    <tr>\n",
       "      <th>4</th>\n",
       "      <td>0</td>\n",
       "      <td>56</td>\n",
       "      <td>0</td>\n",
       "      <td>1</td>\n",
       "      <td>1</td>\n",
       "      <td>0</td>\n",
       "      <td>0</td>\n",
       "      <td>0</td>\n",
       "      <td>2016</td>\n",
       "      <td>4</td>\n",
       "      <td>...</td>\n",
       "      <td>0</td>\n",
       "      <td>0</td>\n",
       "      <td>0</td>\n",
       "      <td>0</td>\n",
       "      <td>0</td>\n",
       "      <td>0</td>\n",
       "      <td>0</td>\n",
       "      <td>0</td>\n",
       "      <td>0</td>\n",
       "      <td>0</td>\n",
       "    </tr>\n",
       "  </tbody>\n",
       "</table>\n",
       "<p>5 rows × 95 columns</p>\n",
       "</div>"
      ],
      "text/plain": [
       "   Gender  Age  Scholarship  Hipertension  Diabetes  Alcoholism  Handcap  \\\n",
       "0       0   62            0             1         0           0        0   \n",
       "1       1   56            0             0         0           0        0   \n",
       "2       0   62            0             0         0           0        0   \n",
       "3       0    8            0             0         0           0        0   \n",
       "4       0   56            0             1         1           0        0   \n",
       "\n",
       "   SMS_received  ap_year  ap_month  ...  DO QUADRO  DO CABRAL  HORTO  \\\n",
       "0             0     2016         4  ...          0          0      0   \n",
       "1             0     2016         4  ...          0          0      0   \n",
       "2             0     2016         4  ...          0          0      0   \n",
       "3             0     2016         4  ...          0          0      0   \n",
       "4             0     2016         4  ...          0          0      0   \n",
       "\n",
       "   SEGURANÇA DO LAR  ILHA DO BOI  FRADINHOS  NAZARETH  AEROPORTO  \\\n",
       "0                 0            0          0         0          0   \n",
       "1                 0            0          0         0          0   \n",
       "2                 0            0          0         0          0   \n",
       "3                 0            0          0         0          0   \n",
       "4                 0            0          0         0          0   \n",
       "\n",
       "   ILHAS OCEÂNICAS DE TRINDADE  PARQUE INDUSTRIAL  \n",
       "0                            0                  0  \n",
       "1                            0                  0  \n",
       "2                            0                  0  \n",
       "3                            0                  0  \n",
       "4                            0                  0  \n",
       "\n",
       "[5 rows x 95 columns]"
      ]
     },
     "execution_count": 35,
     "metadata": {},
     "output_type": "execute_result"
    }
   ],
   "source": [
    "# ,'ILHA DO BOI','ILHA DO FRADE','AEROPORTO','ILHAS OCEÂNICAS DE TRINDADE','PARQUE INDUSTRIAL'\n",
    "y_clean = df_clean['No_show']\n",
    "X_clean = df_clean.drop(['PatientId','No_show', 'Neighbourhood', 'ScheduledDay', 'AppointmentDay'], axis=1)\n",
    "X_clean.head()"
   ]
  },
  {
   "cell_type": "markdown",
   "metadata": {},
   "source": [
    ">spliting the data into features and output (x,y), y_clean here has the no show feature (output) , while x_clean has the rest of the features."
   ]
  },
  {
   "cell_type": "markdown",
   "metadata": {},
   "source": [
    "> x_clean : droping 'PatientId', and 'Neighbourhood', 'ScheduledDay', 'AppointmentDay' since we already made dummpy cloumns from them."
   ]
  },
  {
   "cell_type": "code",
   "execution_count": 36,
   "metadata": {
    "scrolled": true
   },
   "outputs": [
    {
     "name": "stdout",
     "output_type": "stream",
     "text": [
      "<class 'pandas.core.frame.DataFrame'>\n",
      "Int64Index: 22106 entries, 83379 to 48605\n",
      "Data columns (total 95 columns):\n",
      " #   Column                       Non-Null Count  Dtype\n",
      "---  ------                       --------------  -----\n",
      " 0   Gender                       22106 non-null  int64\n",
      " 1   Age                          22106 non-null  int64\n",
      " 2   Scholarship                  22106 non-null  int64\n",
      " 3   Hipertension                 22106 non-null  int64\n",
      " 4   Diabetes                     22106 non-null  int64\n",
      " 5   Alcoholism                   22106 non-null  int64\n",
      " 6   Handcap                      22106 non-null  int64\n",
      " 7   SMS_received                 22106 non-null  int64\n",
      " 8   ap_year                      22106 non-null  int64\n",
      " 9   ap_month                     22106 non-null  int64\n",
      " 10  ap_day                       22106 non-null  int64\n",
      " 11  sc_year                      22106 non-null  int64\n",
      " 12  sc_month                     22106 non-null  int64\n",
      " 13  sc_day                       22106 non-null  int64\n",
      " 14  JARDIM DA PENHA              22106 non-null  uint8\n",
      " 15  MATA DA PRAIA                22106 non-null  uint8\n",
      " 16  PONTAL DE CAMBURI            22106 non-null  uint8\n",
      " 17  REPÚBLICA                    22106 non-null  uint8\n",
      " 18  GOIABEIRAS                   22106 non-null  uint8\n",
      " 19  ANDORINHAS                   22106 non-null  uint8\n",
      " 20  CONQUISTA                    22106 non-null  uint8\n",
      " 21  NOVA PALESTINA               22106 non-null  uint8\n",
      " 22  DA PENHA                     22106 non-null  uint8\n",
      " 23  TABUAZEIRO                   22106 non-null  uint8\n",
      " 24  BENTO FERREIRA               22106 non-null  uint8\n",
      " 25  SÃO PEDRO                    22106 non-null  uint8\n",
      " 26  SANTA MARTHA                 22106 non-null  uint8\n",
      " 27  SÃO CRISTÓVÃO                22106 non-null  uint8\n",
      " 28  MARUÍPE                      22106 non-null  uint8\n",
      " 29  GRANDE VITÓRIA               22106 non-null  uint8\n",
      " 30  SÃO BENEDITO                 22106 non-null  uint8\n",
      " 31  ILHA DAS CAIEIRAS            22106 non-null  uint8\n",
      " 32  SANTO ANDRÉ                  22106 non-null  uint8\n",
      " 33  SOLON BORGES                 22106 non-null  uint8\n",
      " 34  BONFIM                       22106 non-null  uint8\n",
      " 35  JARDIM CAMBURI               22106 non-null  uint8\n",
      " 36  MARIA ORTIZ                  22106 non-null  uint8\n",
      " 37  JABOUR                       22106 non-null  uint8\n",
      " 38  ANTÔNIO HONÓRIO              22106 non-null  uint8\n",
      " 39  RESISTÊNCIA                  22106 non-null  uint8\n",
      " 40  ILHA DE SANTA MARIA          22106 non-null  uint8\n",
      " 41  JUCUTUQUARA                  22106 non-null  uint8\n",
      " 42  MONTE BELO                   22106 non-null  uint8\n",
      " 43  MÁRIO CYPRESTE               22106 non-null  uint8\n",
      " 44  SANTO ANTÔNIO                22106 non-null  uint8\n",
      " 45  BELA VISTA                   22106 non-null  uint8\n",
      " 46  PRAIA DO SUÁ                 22106 non-null  uint8\n",
      " 47  SANTA HELENA                 22106 non-null  uint8\n",
      " 48  ITARARÉ                      22106 non-null  uint8\n",
      " 49  INHANGUETÁ                   22106 non-null  uint8\n",
      " 50  UNIVERSITÁRIO                22106 non-null  uint8\n",
      " 51  SÃO JOSÉ                     22106 non-null  uint8\n",
      " 52  REDENÇÃO                     22106 non-null  uint8\n",
      " 53  SANTA CLARA                  22106 non-null  uint8\n",
      " 54  CENTRO                       22106 non-null  uint8\n",
      " 55  PARQUE MOSCOSO               22106 non-null  uint8\n",
      " 56  DO MOSCOSO                   22106 non-null  uint8\n",
      " 57  SANTOS DUMONT                22106 non-null  uint8\n",
      " 58  CARATOÍRA                    22106 non-null  uint8\n",
      " 59  ARIOVALDO FAVALESSA          22106 non-null  uint8\n",
      " 60  ILHA DO FRADE                22106 non-null  uint8\n",
      " 61  GURIGICA                     22106 non-null  uint8\n",
      " 62  JOANA D´ARC                  22106 non-null  uint8\n",
      " 63  CONSOLAÇÃO                   22106 non-null  uint8\n",
      " 64  PRAIA DO CANTO               22106 non-null  uint8\n",
      " 65  BOA VISTA                    22106 non-null  uint8\n",
      " 66  MORADA DE CAMBURI            22106 non-null  uint8\n",
      " 67  SANTA LUÍZA                  22106 non-null  uint8\n",
      " 68  SANTA LÚCIA                  22106 non-null  uint8\n",
      " 69  BARRO VERMELHO               22106 non-null  uint8\n",
      " 70  ESTRELINHA                   22106 non-null  uint8\n",
      " 71  FORTE SÃO JOÃO               22106 non-null  uint8\n",
      " 72  FONTE GRANDE                 22106 non-null  uint8\n",
      " 73  ENSEADA DO SUÁ               22106 non-null  uint8\n",
      " 74  SANTOS REIS                  22106 non-null  uint8\n",
      " 75  PIEDADE                      22106 non-null  uint8\n",
      " 76  JESUS DE NAZARETH            22106 non-null  uint8\n",
      " 77  SANTA TEREZA                 22106 non-null  uint8\n",
      " 78  CRUZAMENTO                   22106 non-null  uint8\n",
      " 79  ILHA DO PRÍNCIPE             22106 non-null  uint8\n",
      " 80  ROMÃO                        22106 non-null  uint8\n",
      " 81  COMDUSA                      22106 non-null  uint8\n",
      " 82  SANTA CECÍLIA                22106 non-null  uint8\n",
      " 83  VILA RUBIM                   22106 non-null  uint8\n",
      " 84  DE LOURDES                   22106 non-null  uint8\n",
      " 85  DO QUADRO                    22106 non-null  uint8\n",
      " 86  DO CABRAL                    22106 non-null  uint8\n",
      " 87  HORTO                        22106 non-null  uint8\n",
      " 88  SEGURANÇA DO LAR             22106 non-null  uint8\n",
      " 89  ILHA DO BOI                  22106 non-null  uint8\n",
      " 90  FRADINHOS                    22106 non-null  uint8\n",
      " 91  NAZARETH                     22106 non-null  uint8\n",
      " 92  AEROPORTO                    22106 non-null  uint8\n",
      " 93  ILHAS OCEÂNICAS DE TRINDADE  22106 non-null  uint8\n",
      " 94  PARQUE INDUSTRIAL            22106 non-null  uint8\n",
      "dtypes: int64(14), uint8(81)\n",
      "memory usage: 4.2 MB\n"
     ]
    }
   ],
   "source": [
    "X_train, X_test, y_train, y_test = train_test_split(X_clean,\n",
    "                                                    y_clean,\n",
    "                                                    test_size=0.2,\n",
    "                                                    stratify=y_clean,\n",
    "                                                    random_state=42)\n",
    "X_test.info()"
   ]
  },
  {
   "cell_type": "markdown",
   "metadata": {},
   "source": [
    ">test and train split before smote as to not pollute the model and make it unbiased, i went with 80% , 20% split "
   ]
  },
  {
   "cell_type": "code",
   "execution_count": 37,
   "metadata": {},
   "outputs": [],
   "source": [
    "from sklearn.feature_selection import RFE\n",
    "# Create the RFE object and rank each pixel\n",
    "clf_rf_3 = RandomForestClassifier()      \n",
    "rfe = RFE(estimator=clf_rf_3, n_features_to_select=50, step=1)\n",
    "rfe = rfe.fit(X_train, y_train)"
   ]
  },
  {
   "cell_type": "code",
   "execution_count": 38,
   "metadata": {},
   "outputs": [
    {
     "name": "stdout",
     "output_type": "stream",
     "text": [
      "Chosen best 50 feature by rfe: Index(['Gender', 'Age', 'Scholarship', 'Hipertension', 'Diabetes',\n",
      "       'Alcoholism', 'Handcap', 'SMS_received', 'ap_month', 'ap_day',\n",
      "       'sc_month', 'sc_day', 'MATA DA PRAIA', 'ANDORINHAS', 'DA PENHA',\n",
      "       'TABUAZEIRO', 'BENTO FERREIRA', 'SÃO CRISTÓVÃO', 'MARUÍPE',\n",
      "       'GRANDE VITÓRIA', 'JABOUR', 'ILHA DE SANTA MARIA', 'JUCUTUQUARA',\n",
      "       'MÁRIO CYPRESTE', 'SANTO ANTÔNIO', 'SANTA HELENA', 'INHANGUETÁ',\n",
      "       'UNIVERSITÁRIO', 'SÃO JOSÉ', 'REDENÇÃO', 'SANTA CLARA', 'CENTRO',\n",
      "       'PARQUE MOSCOSO', 'SANTOS DUMONT', 'CARATOÍRA', 'PRAIA DO CANTO',\n",
      "       'ESTRELINHA', 'FORTE SÃO JOÃO', 'ENSEADA DO SUÁ', 'SANTOS REIS',\n",
      "       'ROMÃO', 'COMDUSA', 'SANTA CECÍLIA', 'VILA RUBIM', 'DE LOURDES',\n",
      "       'SEGURANÇA DO LAR', 'ILHA DO BOI', 'FRADINHOS', 'NAZARETH',\n",
      "       'AEROPORTO'],\n",
      "      dtype='object')\n"
     ]
    }
   ],
   "source": [
    "print('Chosen best 50 feature by rfe:',X_train.columns[rfe.support_])"
   ]
  },
  {
   "cell_type": "markdown",
   "metadata": {},
   "source": [
    "> i tested the best 10 , 20 ,.... 50 and all of them got worse results than using all the features , the method used here is the random forest selector "
   ]
  },
  {
   "cell_type": "markdown",
   "metadata": {},
   "source": [
    "> lets check for the number of show and no show in both test and train splits"
   ]
  },
  {
   "cell_type": "code",
   "execution_count": 39,
   "metadata": {},
   "outputs": [
    {
     "name": "stdout",
     "output_type": "stream",
     "text": [
      "show: 70565\n",
      "no show 17855\n",
      "______\n",
      "show: 17642\n",
      "no show 4464\n"
     ]
    }
   ],
   "source": [
    "target_count = y_train.value_counts()\n",
    "print('show:', target_count[0])\n",
    "print('no show', target_count[1])\n",
    "print(\"______\")\n",
    "target_count = y_test.value_counts()\n",
    "print('show:', target_count[0])\n",
    "print('no show', target_count[1])"
   ]
  },
  {
   "cell_type": "markdown",
   "metadata": {},
   "source": [
    "> as seen here the no show only makes 20.1% in the train and test splits, let's look at smoting next to fix this."
   ]
  },
  {
   "cell_type": "code",
   "execution_count": 40,
   "metadata": {},
   "outputs": [
    {
     "name": "stdout",
     "output_type": "stream",
     "text": [
      "Resampled dataset shape Counter({0: 70418, 1: 17855})\n"
     ]
    }
   ],
   "source": [
    "from imblearn import under_sampling\n",
    "rus = under_sampling.RandomUnderSampler(\n",
    "    sampling_strategy={\n",
    "        \n",
    "        0: 70418\n",
    "\n",
    "    },\n",
    "    random_state=42\n",
    ")\n",
    "X_res, y_res = rus.fit_resample(X_train, y_train)\n",
    "print('Resampled dataset shape %s' % collections.Counter(y_res))"
   ]
  },
  {
   "cell_type": "code",
   "execution_count": 41,
   "metadata": {},
   "outputs": [],
   "source": [
    "smt =SMOTE(sampling_strategy={1: 70418 },k_neighbors=10)\n",
    "X_train_sm, y_train_sm = smt.fit_resample(X_res, y_res)"
   ]
  },
  {
   "cell_type": "code",
   "execution_count": 42,
   "metadata": {},
   "outputs": [
    {
     "name": "stdout",
     "output_type": "stream",
     "text": [
      "Resampled dataset shape Counter({0: 17604, 1: 4464})\n"
     ]
    }
   ],
   "source": [
    "from imblearn import under_sampling\n",
    "rus = under_sampling.RandomUnderSampler(\n",
    "    sampling_strategy={\n",
    "        \n",
    "        0: 17604\n",
    "    },\n",
    "    random_state=42\n",
    ")\n",
    "X_rest, y_rest = rus.fit_resample(X_test, y_test)\n",
    "print('Resampled dataset shape %s' % collections.Counter(y_rest))"
   ]
  },
  {
   "cell_type": "code",
   "execution_count": 43,
   "metadata": {},
   "outputs": [],
   "source": [
    "smt = SMOTE(sampling_strategy={1: 17604 },k_neighbors=10)\n",
    "X_test_sm, y_test_sm = smt.fit_resample(X_rest, y_rest)"
   ]
  },
  {
   "cell_type": "markdown",
   "metadata": {},
   "source": [
    "> smoting the no show to make it balnaced "
   ]
  },
  {
   "cell_type": "code",
   "execution_count": 44,
   "metadata": {},
   "outputs": [
    {
     "name": "stdout",
     "output_type": "stream",
     "text": [
      "show : 70418\n",
      "no show : 70418\n",
      "______\n",
      "show : 17604\n",
      "no show : 17604\n",
      "(train)percentage of normal transacation is 50.0\n",
      "(train)percentage of fraud transacation 50.0\n",
      "(test)percentage of normal transacation is 50.0\n",
      "(test)percentage of fraud transacation 50.0\n"
     ]
    }
   ],
   "source": [
    "target_count = y_train_sm.value_counts()\n",
    "print('show :', target_count[0])\n",
    "print('no show :', target_count[1])\n",
    "\n",
    "print(\"______\")\n",
    "target_count = y_test_sm.value_counts()\n",
    "print('show :', target_count[0])\n",
    "print('no show :', target_count[1])\n",
    "\n",
    "\n",
    "Count_Normal_transacation = len(y_train_sm[y_train_sm==0]) # normal transaction are repersented by 0\n",
    "Count_Fraud_transacation = len(y_train_sm[y_train_sm==1]) # fraud by 1\n",
    "Percentage_of_Normal_transacation = Count_Normal_transacation/(Count_Normal_transacation+Count_Fraud_transacation)\n",
    "print(\"(train)percentage of normal transacation is\",Percentage_of_Normal_transacation*100)\n",
    "Percentage_of_Fraud_transacation= Count_Fraud_transacation/(Count_Normal_transacation+Count_Fraud_transacation)\n",
    "print(\"(train)percentage of fraud transacation\",Percentage_of_Fraud_transacation*100)\n",
    "\n",
    "Count_Normal_transacation = len(y_test_sm[y_test_sm==0]) # normal transaction are repersented by 0\n",
    "Count_Fraud_transacation = len(y_test_sm[y_test_sm==1]) # fraud by 1\n",
    "Percentage_of_Normal_transacation = Count_Normal_transacation/(Count_Normal_transacation+Count_Fraud_transacation)\n",
    "print(\"(test)percentage of normal transacation is\",Percentage_of_Normal_transacation*100)\n",
    "Percentage_of_Fraud_transacation= Count_Fraud_transacation/(Count_Normal_transacation+Count_Fraud_transacation)\n",
    "print(\"(test)percentage of fraud transacation\",Percentage_of_Fraud_transacation*100)"
   ]
  },
  {
   "cell_type": "markdown",
   "metadata": {},
   "source": [
    "> now they're 50 50 split, we can scale the data and start training the models"
   ]
  },
  {
   "cell_type": "code",
   "execution_count": 45,
   "metadata": {},
   "outputs": [],
   "source": [
    "X_test_sm_c = X_test_sm.copy()\n",
    "X_train_sm_c = X_train_sm.copy()\n",
    "\n",
    "\n",
    "scale = StandardScaler()\n",
    "scale.fit(X_train_sm_c)\n",
    "\n",
    "scale_t = StandardScaler()\n",
    "scale_t.fit(X_test_sm_c)\n",
    "\n",
    "sc_train =scale.transform(X_train_sm_c)\n",
    "sc_test =scale_t.transform(X_test_sm_c)"
   ]
  },
  {
   "cell_type": "markdown",
   "metadata": {},
   "source": [
    "> scaling the data for the knn and the MLP since both benfit greatly from scaling "
   ]
  },
  {
   "cell_type": "markdown",
   "metadata": {},
   "source": [
    "<a id='Model Training & Testing'></a>\n",
    "# Model Training & Testing"
   ]
  },
  {
   "cell_type": "markdown",
   "metadata": {},
   "source": [
    ">let's start with randomforest "
   ]
  },
  {
   "cell_type": "markdown",
   "metadata": {},
   "source": [
    "## Random Forest"
   ]
  },
  {
   "cell_type": "code",
   "execution_count": 58,
   "metadata": {},
   "outputs": [],
   "source": [
    "model = BalancedBaggingClassifier(RandomForestClassifier( random_state=0), n_jobs=-1)\n"
   ]
  },
  {
   "cell_type": "code",
   "execution_count": 59,
   "metadata": {},
   "outputs": [
    {
     "data": {
      "text/html": [
       "<style>#sk-container-id-5 {color: black;background-color: white;}#sk-container-id-5 pre{padding: 0;}#sk-container-id-5 div.sk-toggleable {background-color: white;}#sk-container-id-5 label.sk-toggleable__label {cursor: pointer;display: block;width: 100%;margin-bottom: 0;padding: 0.3em;box-sizing: border-box;text-align: center;}#sk-container-id-5 label.sk-toggleable__label-arrow:before {content: \"▸\";float: left;margin-right: 0.25em;color: #696969;}#sk-container-id-5 label.sk-toggleable__label-arrow:hover:before {color: black;}#sk-container-id-5 div.sk-estimator:hover label.sk-toggleable__label-arrow:before {color: black;}#sk-container-id-5 div.sk-toggleable__content {max-height: 0;max-width: 0;overflow: hidden;text-align: left;background-color: #f0f8ff;}#sk-container-id-5 div.sk-toggleable__content pre {margin: 0.2em;color: black;border-radius: 0.25em;background-color: #f0f8ff;}#sk-container-id-5 input.sk-toggleable__control:checked~div.sk-toggleable__content {max-height: 200px;max-width: 100%;overflow: auto;}#sk-container-id-5 input.sk-toggleable__control:checked~label.sk-toggleable__label-arrow:before {content: \"▾\";}#sk-container-id-5 div.sk-estimator input.sk-toggleable__control:checked~label.sk-toggleable__label {background-color: #d4ebff;}#sk-container-id-5 div.sk-label input.sk-toggleable__control:checked~label.sk-toggleable__label {background-color: #d4ebff;}#sk-container-id-5 input.sk-hidden--visually {border: 0;clip: rect(1px 1px 1px 1px);clip: rect(1px, 1px, 1px, 1px);height: 1px;margin: -1px;overflow: hidden;padding: 0;position: absolute;width: 1px;}#sk-container-id-5 div.sk-estimator {font-family: monospace;background-color: #f0f8ff;border: 1px dotted black;border-radius: 0.25em;box-sizing: border-box;margin-bottom: 0.5em;}#sk-container-id-5 div.sk-estimator:hover {background-color: #d4ebff;}#sk-container-id-5 div.sk-parallel-item::after {content: \"\";width: 100%;border-bottom: 1px solid gray;flex-grow: 1;}#sk-container-id-5 div.sk-label:hover label.sk-toggleable__label {background-color: #d4ebff;}#sk-container-id-5 div.sk-serial::before {content: \"\";position: absolute;border-left: 1px solid gray;box-sizing: border-box;top: 0;bottom: 0;left: 50%;z-index: 0;}#sk-container-id-5 div.sk-serial {display: flex;flex-direction: column;align-items: center;background-color: white;padding-right: 0.2em;padding-left: 0.2em;position: relative;}#sk-container-id-5 div.sk-item {position: relative;z-index: 1;}#sk-container-id-5 div.sk-parallel {display: flex;align-items: stretch;justify-content: center;background-color: white;position: relative;}#sk-container-id-5 div.sk-item::before, #sk-container-id-5 div.sk-parallel-item::before {content: \"\";position: absolute;border-left: 1px solid gray;box-sizing: border-box;top: 0;bottom: 0;left: 50%;z-index: -1;}#sk-container-id-5 div.sk-parallel-item {display: flex;flex-direction: column;z-index: 1;position: relative;background-color: white;}#sk-container-id-5 div.sk-parallel-item:first-child::after {align-self: flex-end;width: 50%;}#sk-container-id-5 div.sk-parallel-item:last-child::after {align-self: flex-start;width: 50%;}#sk-container-id-5 div.sk-parallel-item:only-child::after {width: 0;}#sk-container-id-5 div.sk-dashed-wrapped {border: 1px dashed gray;margin: 0 0.4em 0.5em 0.4em;box-sizing: border-box;padding-bottom: 0.4em;background-color: white;}#sk-container-id-5 div.sk-label label {font-family: monospace;font-weight: bold;display: inline-block;line-height: 1.2em;}#sk-container-id-5 div.sk-label-container {text-align: center;}#sk-container-id-5 div.sk-container {/* jupyter's `normalize.less` sets `[hidden] { display: none; }` but bootstrap.min.css set `[hidden] { display: none !important; }` so we also need the `!important` here to be able to override the default hidden behavior on the sphinx rendered scikit-learn.org. See: https://github.com/scikit-learn/scikit-learn/issues/21755 */display: inline-block !important;position: relative;}#sk-container-id-5 div.sk-text-repr-fallback {display: none;}</style><div id=\"sk-container-id-5\" class=\"sk-top-container\"><div class=\"sk-text-repr-fallback\"><pre>BalancedBaggingClassifier(estimator=RandomForestClassifier(random_state=0),\n",
       "                          n_jobs=-1)</pre><b>In a Jupyter environment, please rerun this cell to show the HTML representation or trust the notebook. <br />On GitHub, the HTML representation is unable to render, please try loading this page with nbviewer.org.</b></div><div class=\"sk-container\" hidden><div class=\"sk-item sk-dashed-wrapped\"><div class=\"sk-label-container\"><div class=\"sk-label sk-toggleable\"><input class=\"sk-toggleable__control sk-hidden--visually\" id=\"sk-estimator-id-11\" type=\"checkbox\" ><label for=\"sk-estimator-id-11\" class=\"sk-toggleable__label sk-toggleable__label-arrow\">BalancedBaggingClassifier</label><div class=\"sk-toggleable__content\"><pre>BalancedBaggingClassifier(estimator=RandomForestClassifier(random_state=0),\n",
       "                          n_jobs=-1)</pre></div></div></div><div class=\"sk-parallel\"><div class=\"sk-parallel-item\"><div class=\"sk-item\"><div class=\"sk-label-container\"><div class=\"sk-label sk-toggleable\"><input class=\"sk-toggleable__control sk-hidden--visually\" id=\"sk-estimator-id-12\" type=\"checkbox\" ><label for=\"sk-estimator-id-12\" class=\"sk-toggleable__label sk-toggleable__label-arrow\">estimator: RandomForestClassifier</label><div class=\"sk-toggleable__content\"><pre>RandomForestClassifier(random_state=0)</pre></div></div></div><div class=\"sk-serial\"><div class=\"sk-item\"><div class=\"sk-estimator sk-toggleable\"><input class=\"sk-toggleable__control sk-hidden--visually\" id=\"sk-estimator-id-13\" type=\"checkbox\" ><label for=\"sk-estimator-id-13\" class=\"sk-toggleable__label sk-toggleable__label-arrow\">RandomForestClassifier</label><div class=\"sk-toggleable__content\"><pre>RandomForestClassifier(random_state=0)</pre></div></div></div></div></div></div></div></div></div></div>"
      ],
      "text/plain": [
       "BalancedBaggingClassifier(estimator=RandomForestClassifier(random_state=0),\n",
       "                          n_jobs=-1)"
      ]
     },
     "execution_count": 59,
     "metadata": {},
     "output_type": "execute_result"
    }
   ],
   "source": [
    "model.fit(X_train_sm, y_train_sm)"
   ]
  },
  {
   "cell_type": "code",
   "execution_count": 60,
   "metadata": {},
   "outputs": [
    {
     "name": "stdout",
     "output_type": "stream",
     "text": [
      "the recall for this model is : 0.7934560327198364\n",
      "TP 13968\n",
      "TN 15482\n",
      "FP 2122\n",
      "FN 3636\n"
     ]
    },
    {
     "data": {
      "image/png": "[encoded data removed]",
      "text/plain": [
       "<Figure size 600x300 with 2 Axes>"
      ]
     },
     "metadata": {},
     "output_type": "display_data"
    },
    {
     "name": "stdout",
     "output_type": "stream",
     "text": [
      "\n",
      "----------Classification Report------------------------------------\n",
      "              precision    recall  f1-score   support\n",
      "\n",
      "           0    0.80981   0.87946   0.84320     17604\n",
      "           1    0.86812   0.79346   0.82911     17604\n",
      "\n",
      "    accuracy                        0.83646     35208\n",
      "   macro avg    0.83896   0.83646   0.83615     35208\n",
      "weighted avg    0.83896   0.83646   0.83615     35208\n",
      "\n",
      "                   pre       rec       spe        f1       geo       iba       sup\n",
      "\n",
      "          0    0.80981   0.87946   0.79346   0.84320   0.83535   0.70381     17604\n",
      "          1    0.86812   0.79346   0.87946   0.82911   0.83535   0.69181     17604\n",
      "\n",
      "avg / total    0.83896   0.83646   0.83646   0.83615   0.83535   0.69781     35208\n",
      "\n"
     ]
    }
   ],
   "source": [
    "y_pred_bag = model.predict(X_test_sm)\n",
    "model_val(y_test_sm, y_pred_bag)"
   ]
  },
  {
   "cell_type": "markdown",
   "metadata": {},
   "source": [
    "> the model got 83.8% in precision and 83.6 in recall which is the weakest of all the algorithms tested, next will check MLP"
   ]
  },
  {
   "cell_type": "markdown",
   "metadata": {},
   "source": [
    "## MLP"
   ]
  },
  {
   "cell_type": "markdown",
   "metadata": {},
   "source": [
    "> i went with adam as the slover and relu as the activation fuction with 120 hidden layers, and ensampling to help with the data imbalance "
   ]
  },
  {
   "cell_type": "code",
   "execution_count": 49,
   "metadata": {},
   "outputs": [
    {
     "data": {
      "text/html": [
       "<style>#sk-container-id-2 {color: black;background-color: white;}#sk-container-id-2 pre{padding: 0;}#sk-container-id-2 div.sk-toggleable {background-color: white;}#sk-container-id-2 label.sk-toggleable__label {cursor: pointer;display: block;width: 100%;margin-bottom: 0;padding: 0.3em;box-sizing: border-box;text-align: center;}#sk-container-id-2 label.sk-toggleable__label-arrow:before {content: \"▸\";float: left;margin-right: 0.25em;color: #696969;}#sk-container-id-2 label.sk-toggleable__label-arrow:hover:before {color: black;}#sk-container-id-2 div.sk-estimator:hover label.sk-toggleable__label-arrow:before {color: black;}#sk-container-id-2 div.sk-toggleable__content {max-height: 0;max-width: 0;overflow: hidden;text-align: left;background-color: #f0f8ff;}#sk-container-id-2 div.sk-toggleable__content pre {margin: 0.2em;color: black;border-radius: 0.25em;background-color: #f0f8ff;}#sk-container-id-2 input.sk-toggleable__control:checked~div.sk-toggleable__content {max-height: 200px;max-width: 100%;overflow: auto;}#sk-container-id-2 input.sk-toggleable__control:checked~label.sk-toggleable__label-arrow:before {content: \"▾\";}#sk-container-id-2 div.sk-estimator input.sk-toggleable__control:checked~label.sk-toggleable__label {background-color: #d4ebff;}#sk-container-id-2 div.sk-label input.sk-toggleable__control:checked~label.sk-toggleable__label {background-color: #d4ebff;}#sk-container-id-2 input.sk-hidden--visually {border: 0;clip: rect(1px 1px 1px 1px);clip: rect(1px, 1px, 1px, 1px);height: 1px;margin: -1px;overflow: hidden;padding: 0;position: absolute;width: 1px;}#sk-container-id-2 div.sk-estimator {font-family: monospace;background-color: #f0f8ff;border: 1px dotted black;border-radius: 0.25em;box-sizing: border-box;margin-bottom: 0.5em;}#sk-container-id-2 div.sk-estimator:hover {background-color: #d4ebff;}#sk-container-id-2 div.sk-parallel-item::after {content: \"\";width: 100%;border-bottom: 1px solid gray;flex-grow: 1;}#sk-container-id-2 div.sk-label:hover label.sk-toggleable__label {background-color: #d4ebff;}#sk-container-id-2 div.sk-serial::before {content: \"\";position: absolute;border-left: 1px solid gray;box-sizing: border-box;top: 0;bottom: 0;left: 50%;z-index: 0;}#sk-container-id-2 div.sk-serial {display: flex;flex-direction: column;align-items: center;background-color: white;padding-right: 0.2em;padding-left: 0.2em;position: relative;}#sk-container-id-2 div.sk-item {position: relative;z-index: 1;}#sk-container-id-2 div.sk-parallel {display: flex;align-items: stretch;justify-content: center;background-color: white;position: relative;}#sk-container-id-2 div.sk-item::before, #sk-container-id-2 div.sk-parallel-item::before {content: \"\";position: absolute;border-left: 1px solid gray;box-sizing: border-box;top: 0;bottom: 0;left: 50%;z-index: -1;}#sk-container-id-2 div.sk-parallel-item {display: flex;flex-direction: column;z-index: 1;position: relative;background-color: white;}#sk-container-id-2 div.sk-parallel-item:first-child::after {align-self: flex-end;width: 50%;}#sk-container-id-2 div.sk-parallel-item:last-child::after {align-self: flex-start;width: 50%;}#sk-container-id-2 div.sk-parallel-item:only-child::after {width: 0;}#sk-container-id-2 div.sk-dashed-wrapped {border: 1px dashed gray;margin: 0 0.4em 0.5em 0.4em;box-sizing: border-box;padding-bottom: 0.4em;background-color: white;}#sk-container-id-2 div.sk-label label {font-family: monospace;font-weight: bold;display: inline-block;line-height: 1.2em;}#sk-container-id-2 div.sk-label-container {text-align: center;}#sk-container-id-2 div.sk-container {/* jupyter's `normalize.less` sets `[hidden] { display: none; }` but bootstrap.min.css set `[hidden] { display: none !important; }` so we also need the `!important` here to be able to override the default hidden behavior on the sphinx rendered scikit-learn.org. See: https://github.com/scikit-learn/scikit-learn/issues/21755 */display: inline-block !important;position: relative;}#sk-container-id-2 div.sk-text-repr-fallback {display: none;}</style><div id=\"sk-container-id-2\" class=\"sk-top-container\"><div class=\"sk-text-repr-fallback\"><pre>BalancedBaggingClassifier(estimator=MLPClassifier(hidden_layer_sizes=120,\n",
       "                                                  learning_rate_init=0.0015),\n",
       "                          n_jobs=-1)</pre><b>In a Jupyter environment, please rerun this cell to show the HTML representation or trust the notebook. <br />On GitHub, the HTML representation is unable to render, please try loading this page with nbviewer.org.</b></div><div class=\"sk-container\" hidden><div class=\"sk-item sk-dashed-wrapped\"><div class=\"sk-label-container\"><div class=\"sk-label sk-toggleable\"><input class=\"sk-toggleable__control sk-hidden--visually\" id=\"sk-estimator-id-2\" type=\"checkbox\" ><label for=\"sk-estimator-id-2\" class=\"sk-toggleable__label sk-toggleable__label-arrow\">BalancedBaggingClassifier</label><div class=\"sk-toggleable__content\"><pre>BalancedBaggingClassifier(estimator=MLPClassifier(hidden_layer_sizes=120,\n",
       "                                                  learning_rate_init=0.0015),\n",
       "                          n_jobs=-1)</pre></div></div></div><div class=\"sk-parallel\"><div class=\"sk-parallel-item\"><div class=\"sk-item\"><div class=\"sk-label-container\"><div class=\"sk-label sk-toggleable\"><input class=\"sk-toggleable__control sk-hidden--visually\" id=\"sk-estimator-id-3\" type=\"checkbox\" ><label for=\"sk-estimator-id-3\" class=\"sk-toggleable__label sk-toggleable__label-arrow\">estimator: MLPClassifier</label><div class=\"sk-toggleable__content\"><pre>MLPClassifier(hidden_layer_sizes=120, learning_rate_init=0.0015)</pre></div></div></div><div class=\"sk-serial\"><div class=\"sk-item\"><div class=\"sk-estimator sk-toggleable\"><input class=\"sk-toggleable__control sk-hidden--visually\" id=\"sk-estimator-id-4\" type=\"checkbox\" ><label for=\"sk-estimator-id-4\" class=\"sk-toggleable__label sk-toggleable__label-arrow\">MLPClassifier</label><div class=\"sk-toggleable__content\"><pre>MLPClassifier(hidden_layer_sizes=120, learning_rate_init=0.0015)</pre></div></div></div></div></div></div></div></div></div></div>"
      ],
      "text/plain": [
       "BalancedBaggingClassifier(estimator=MLPClassifier(hidden_layer_sizes=120,\n",
       "                                                  learning_rate_init=0.0015),\n",
       "                          n_jobs=-1)"
      ]
     },
     "execution_count": 49,
     "metadata": {},
     "output_type": "execute_result"
    }
   ],
   "source": [
    "model_svc = BalancedBaggingClassifier(MLPClassifier(solver='adam', activation= 'relu', hidden_layer_sizes=120, learning_rate_init=0.0015 ), n_jobs=-1)\n",
    "model_svc.fit(sc_train, y_train_sm)"
   ]
  },
  {
   "cell_type": "code",
   "execution_count": 50,
   "metadata": {},
   "outputs": [
    {
     "name": "stdout",
     "output_type": "stream",
     "text": [
      "the recall for this model is : 0.757725516927971\n",
      "TP 13339\n",
      "TN 16826\n",
      "FP 778\n",
      "FN 4265\n"
     ]
    },
    {
     "data": {
      "image/png": "[encoded data removed]",
      "text/plain": [
       "<Figure size 600x300 with 2 Axes>"
      ]
     },
     "metadata": {},
     "output_type": "display_data"
    },
    {
     "name": "stdout",
     "output_type": "stream",
     "text": [
      "\n",
      "----------Classification Report------------------------------------\n",
      "              precision    recall  f1-score   support\n",
      "\n",
      "           0    0.79778   0.95581   0.86967     17604\n",
      "           1    0.94489   0.75773   0.84102     17604\n",
      "\n",
      "    accuracy                        0.85677     35208\n",
      "   macro avg    0.87134   0.85677   0.85535     35208\n",
      "weighted avg    0.87134   0.85677   0.85535     35208\n",
      "\n",
      "                   pre       rec       spe        f1       geo       iba       sup\n",
      "\n",
      "          0    0.79778   0.95581   0.75773   0.86967   0.85102   0.73858     17604\n",
      "          1    0.94489   0.75773   0.95581   0.84102   0.85102   0.70989     17604\n",
      "\n",
      "avg / total    0.87134   0.85677   0.85677   0.85535   0.85102   0.72424     35208\n",
      "\n"
     ]
    }
   ],
   "source": [
    "y_pred = model_svc.predict(sc_test)\n",
    "model_val(y_test_sm, y_pred)"
   ]
  },
  {
   "cell_type": "markdown",
   "metadata": {},
   "source": [
    "> the model got 87.1% in precision and 85.6 in recall"
   ]
  },
  {
   "cell_type": "markdown",
   "metadata": {},
   "source": [
    "> next lets check knn"
   ]
  },
  {
   "cell_type": "markdown",
   "metadata": {},
   "source": [
    "## KNN"
   ]
  },
  {
   "cell_type": "markdown",
   "metadata": {},
   "source": [
    "> before we can start we have to find the k number so let's test k from 1 till 40 to see which gives us the least error rate "
   ]
  },
  {
   "cell_type": "code",
   "execution_count": 51,
   "metadata": {},
   "outputs": [],
   "source": [
    "error_rate = []\n",
    "for i in range(1,40):\n",
    "    knn = KNeighborsClassifier(n_neighbors=i)\n",
    "    knn.fit(sc_train, y_train_sm)\n",
    "    pred_i = knn.predict(sc_test)\n",
    "    error_rate.append(np.mean(pred_i !=y_test_sm))"
   ]
  },
  {
   "cell_type": "markdown",
   "metadata": {},
   "source": [
    "> let's plot the error rate "
   ]
  },
  {
   "cell_type": "code",
   "execution_count": 52,
   "metadata": {},
   "outputs": [
    {
     "data": {
      "text/plain": [
       "Text(0, 0.5, 'Error Rate')"
      ]
     },
     "execution_count": 52,
     "metadata": {},
     "output_type": "execute_result"
    },
    {
     "data": {
      "image/png": "[encoded data removed]",
      "text/plain": [
       "<Figure size 1000x600 with 1 Axes>"
      ]
     },
     "metadata": {},
     "output_type": "display_data"
    }
   ],
   "source": [
    "plt.figure(figsize=(10,6))\n",
    "plt.plot(range(1,40),error_rate,color='blue', linestyle='dashed', marker='o',\n",
    "markerfacecolor='red', markersize=10)\n",
    "plt.title('Error Rate vs. K Value')\n",
    "plt.xlabel('K')\n",
    "plt.ylabel('Error Rate')"
   ]
  },
  {
   "cell_type": "markdown",
   "metadata": {},
   "source": [
    "> we can see from the graph that around 38 we get the least error rate let's check the list to make sure "
   ]
  },
  {
   "cell_type": "code",
   "execution_count": 53,
   "metadata": {},
   "outputs": [
    {
     "data": {
      "text/plain": [
       "38"
      ]
     },
     "execution_count": 53,
     "metadata": {},
     "output_type": "execute_result"
    }
   ],
   "source": [
    "np.argmin(error_rate)"
   ]
  },
  {
   "cell_type": "code",
   "execution_count": 56,
   "metadata": {},
   "outputs": [
    {
     "data": {
      "text/html": [
       "<style>#sk-container-id-4 {color: black;background-color: white;}#sk-container-id-4 pre{padding: 0;}#sk-container-id-4 div.sk-toggleable {background-color: white;}#sk-container-id-4 label.sk-toggleable__label {cursor: pointer;display: block;width: 100%;margin-bottom: 0;padding: 0.3em;box-sizing: border-box;text-align: center;}#sk-container-id-4 label.sk-toggleable__label-arrow:before {content: \"▸\";float: left;margin-right: 0.25em;color: #696969;}#sk-container-id-4 label.sk-toggleable__label-arrow:hover:before {color: black;}#sk-container-id-4 div.sk-estimator:hover label.sk-toggleable__label-arrow:before {color: black;}#sk-container-id-4 div.sk-toggleable__content {max-height: 0;max-width: 0;overflow: hidden;text-align: left;background-color: #f0f8ff;}#sk-container-id-4 div.sk-toggleable__content pre {margin: 0.2em;color: black;border-radius: 0.25em;background-color: #f0f8ff;}#sk-container-id-4 input.sk-toggleable__control:checked~div.sk-toggleable__content {max-height: 200px;max-width: 100%;overflow: auto;}#sk-container-id-4 input.sk-toggleable__control:checked~label.sk-toggleable__label-arrow:before {content: \"▾\";}#sk-container-id-4 div.sk-estimator input.sk-toggleable__control:checked~label.sk-toggleable__label {background-color: #d4ebff;}#sk-container-id-4 div.sk-label input.sk-toggleable__control:checked~label.sk-toggleable__label {background-color: #d4ebff;}#sk-container-id-4 input.sk-hidden--visually {border: 0;clip: rect(1px 1px 1px 1px);clip: rect(1px, 1px, 1px, 1px);height: 1px;margin: -1px;overflow: hidden;padding: 0;position: absolute;width: 1px;}#sk-container-id-4 div.sk-estimator {font-family: monospace;background-color: #f0f8ff;border: 1px dotted black;border-radius: 0.25em;box-sizing: border-box;margin-bottom: 0.5em;}#sk-container-id-4 div.sk-estimator:hover {background-color: #d4ebff;}#sk-container-id-4 div.sk-parallel-item::after {content: \"\";width: 100%;border-bottom: 1px solid gray;flex-grow: 1;}#sk-container-id-4 div.sk-label:hover label.sk-toggleable__label {background-color: #d4ebff;}#sk-container-id-4 div.sk-serial::before {content: \"\";position: absolute;border-left: 1px solid gray;box-sizing: border-box;top: 0;bottom: 0;left: 50%;z-index: 0;}#sk-container-id-4 div.sk-serial {display: flex;flex-direction: column;align-items: center;background-color: white;padding-right: 0.2em;padding-left: 0.2em;position: relative;}#sk-container-id-4 div.sk-item {position: relative;z-index: 1;}#sk-container-id-4 div.sk-parallel {display: flex;align-items: stretch;justify-content: center;background-color: white;position: relative;}#sk-container-id-4 div.sk-item::before, #sk-container-id-4 div.sk-parallel-item::before {content: \"\";position: absolute;border-left: 1px solid gray;box-sizing: border-box;top: 0;bottom: 0;left: 50%;z-index: -1;}#sk-container-id-4 div.sk-parallel-item {display: flex;flex-direction: column;z-index: 1;position: relative;background-color: white;}#sk-container-id-4 div.sk-parallel-item:first-child::after {align-self: flex-end;width: 50%;}#sk-container-id-4 div.sk-parallel-item:last-child::after {align-self: flex-start;width: 50%;}#sk-container-id-4 div.sk-parallel-item:only-child::after {width: 0;}#sk-container-id-4 div.sk-dashed-wrapped {border: 1px dashed gray;margin: 0 0.4em 0.5em 0.4em;box-sizing: border-box;padding-bottom: 0.4em;background-color: white;}#sk-container-id-4 div.sk-label label {font-family: monospace;font-weight: bold;display: inline-block;line-height: 1.2em;}#sk-container-id-4 div.sk-label-container {text-align: center;}#sk-container-id-4 div.sk-container {/* jupyter's `normalize.less` sets `[hidden] { display: none; }` but bootstrap.min.css set `[hidden] { display: none !important; }` so we also need the `!important` here to be able to override the default hidden behavior on the sphinx rendered scikit-learn.org. See: https://github.com/scikit-learn/scikit-learn/issues/21755 */display: inline-block !important;position: relative;}#sk-container-id-4 div.sk-text-repr-fallback {display: none;}</style><div id=\"sk-container-id-4\" class=\"sk-top-container\"><div class=\"sk-text-repr-fallback\"><pre>BalancedBaggingClassifier(estimator=KNeighborsClassifier(algorithm=&#x27;ball_tree&#x27;,\n",
       "                                                         leaf_size=40,\n",
       "                                                         n_neighbors=38,\n",
       "                                                         weights=&#x27;distance&#x27;),\n",
       "                          n_jobs=-1)</pre><b>In a Jupyter environment, please rerun this cell to show the HTML representation or trust the notebook. <br />On GitHub, the HTML representation is unable to render, please try loading this page with nbviewer.org.</b></div><div class=\"sk-container\" hidden><div class=\"sk-item sk-dashed-wrapped\"><div class=\"sk-label-container\"><div class=\"sk-label sk-toggleable\"><input class=\"sk-toggleable__control sk-hidden--visually\" id=\"sk-estimator-id-8\" type=\"checkbox\" ><label for=\"sk-estimator-id-8\" class=\"sk-toggleable__label sk-toggleable__label-arrow\">BalancedBaggingClassifier</label><div class=\"sk-toggleable__content\"><pre>BalancedBaggingClassifier(estimator=KNeighborsClassifier(algorithm=&#x27;ball_tree&#x27;,\n",
       "                                                         leaf_size=40,\n",
       "                                                         n_neighbors=38,\n",
       "                                                         weights=&#x27;distance&#x27;),\n",
       "                          n_jobs=-1)</pre></div></div></div><div class=\"sk-parallel\"><div class=\"sk-parallel-item\"><div class=\"sk-item\"><div class=\"sk-label-container\"><div class=\"sk-label sk-toggleable\"><input class=\"sk-toggleable__control sk-hidden--visually\" id=\"sk-estimator-id-9\" type=\"checkbox\" ><label for=\"sk-estimator-id-9\" class=\"sk-toggleable__label sk-toggleable__label-arrow\">estimator: KNeighborsClassifier</label><div class=\"sk-toggleable__content\"><pre>KNeighborsClassifier(algorithm=&#x27;ball_tree&#x27;, leaf_size=40, n_neighbors=38,\n",
       "                     weights=&#x27;distance&#x27;)</pre></div></div></div><div class=\"sk-serial\"><div class=\"sk-item\"><div class=\"sk-estimator sk-toggleable\"><input class=\"sk-toggleable__control sk-hidden--visually\" id=\"sk-estimator-id-10\" type=\"checkbox\" ><label for=\"sk-estimator-id-10\" class=\"sk-toggleable__label sk-toggleable__label-arrow\">KNeighborsClassifier</label><div class=\"sk-toggleable__content\"><pre>KNeighborsClassifier(algorithm=&#x27;ball_tree&#x27;, leaf_size=40, n_neighbors=38,\n",
       "                     weights=&#x27;distance&#x27;)</pre></div></div></div></div></div></div></div></div></div></div>"
      ],
      "text/plain": [
       "BalancedBaggingClassifier(estimator=KNeighborsClassifier(algorithm='ball_tree',\n",
       "                                                         leaf_size=40,\n",
       "                                                         n_neighbors=38,\n",
       "                                                         weights='distance'),\n",
       "                          n_jobs=-1)"
      ]
     },
     "execution_count": 56,
     "metadata": {},
     "output_type": "execute_result"
    }
   ],
   "source": [
    "modelknn = BalancedBaggingClassifier(KNeighborsClassifier(n_neighbors=38, weights='distance', algorithm='ball_tree', leaf_size=40)\n",
    ", n_jobs=-1)\n",
    "modelknn.fit(sc_train, y_train_sm) "
   ]
  },
  {
   "cell_type": "code",
   "execution_count": 57,
   "metadata": {},
   "outputs": [
    {
     "name": "stdout",
     "output_type": "stream",
     "text": [
      "the recall for this model is : 0.7545444217223358\n",
      "TP 13283\n",
      "TN 16903\n",
      "FP 701\n",
      "FN 4321\n"
     ]
    },
    {
     "data": {
      "image/png": "[encoded data removed]",
      "text/plain": [
       "<Figure size 600x300 with 2 Axes>"
      ]
     },
     "metadata": {},
     "output_type": "display_data"
    },
    {
     "name": "stdout",
     "output_type": "stream",
     "text": [
      "\n",
      "----------Classification Report------------------------------------\n",
      "              precision    recall  f1-score   support\n",
      "\n",
      "           0    0.79641   0.96018   0.87066     17604\n",
      "           1    0.94987   0.75454   0.84102     17604\n",
      "\n",
      "    accuracy                        0.85736     35208\n",
      "   macro avg    0.87314   0.85736   0.85584     35208\n",
      "weighted avg    0.87314   0.85736   0.85584     35208\n",
      "\n",
      "                   pre       rec       spe        f1       geo       iba       sup\n",
      "\n",
      "          0    0.79641   0.96018   0.75454   0.87066   0.85117   0.73940     17604\n",
      "          1    0.94987   0.75454   0.96018   0.84102   0.85117   0.70960     17604\n",
      "\n",
      "avg / total    0.87314   0.85736   0.85736   0.85584   0.85117   0.72450     35208\n",
      "\n"
     ]
    }
   ],
   "source": [
    "y_pred_knn = modelknn.predict(sc_test)\n",
    "model_val(y_test_sm, y_pred_knn)"
   ]
  },
  {
   "cell_type": "markdown",
   "metadata": {},
   "source": [
    ">the model got 87.3% precision  and 85.7% in recall, over all the best performer of all the algorithms tested \n"
   ]
  },
  {
   "cell_type": "markdown",
   "metadata": {},
   "source": [
    "<a id='Conclusion'></a>\n",
    "## Conclusion\n",
    "\n",
    "I Looked at the dataset and mananged to remove wrong/unwanted data, also made investgations for most of the independent varibles, compared them to each other and to dependent varibles(No show) through chi square and expolratory analysis, my findings:\n",
    "\n",
    "   ### expolratory analysis\n",
    "       1. Females Are 71839 (79.685 % attendance rate) while Males are 38687 (80.032 % attendance rate).\n",
    "       2. The highest Age group are people below 10.\n",
    "       3. Most patients have other disease or came for other reasons, followed by patients who suffer from hypertension\n",
    "           are the second (female lead on all except alcoholism).\n",
    "       4. Highest attendance in male is for alcoholism (82.73%) while females are for hypertension (82.67%). \n",
    "       5. Most appointments were made on Wedensday.\n",
    "       6. Most Desired week day for schedules is Tuesday.\n",
    "       7. Most Attended week day is Tuesday.\n",
    "       8. Least desired week day is Saturday.\n",
    "   \n",
    "   ### correlation Analysis\n",
    "       1. There is a strong relation between receiving an SMS attending.\n",
    "       2. There is a strong relation between Scholarship and attendance.\n",
    "       3. There is independence between Gender attending.\n",
    "       4. There is a strong relation between disease attending.\n",
    "   \n",
    "   ### model testing\n",
    "       1. the random forrest model got 83.8% in precision and 83.6% in recall. (the worst performer)\n",
    "       2. the MLP model got 87.1% in precision and 85.6% in recall. (the second best performer)\n",
    "       3. the KNN model got 87.3% precision and 85.7% in recall. (the best performer)\n",
    "   \n"
   ]
  },
  {
   "cell_type": "code",
   "execution_count": null,
   "metadata": {},
   "outputs": [],
   "source": []
  }
 ],
 "metadata": {
  "kernelspec": {
   "display_name": "Python 3 (ipykernel)",
   "language": "python",
   "name": "python3"
  },
  "language_info": {
   "codemirror_mode": {
    "name": "ipython",
    "version": 3
   },
   "file_extension": ".py",
   "mimetype": "text/x-python",
   "name": "python",
   "nbconvert_exporter": "python",
   "pygments_lexer": "ipython3",
   "version": "3.11.1"
  }
 },
 "nbformat": 4,
 "nbformat_minor": 2
}
